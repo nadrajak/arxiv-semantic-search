{
  "cells": [
    {
      "cell_type": "markdown",
      "metadata": {
        "id": "d0Egblm41Xkl"
      },
      "source": [
        "# **arxiv-fine-tuning**"
      ]
    },
    {
      "cell_type": "markdown",
      "metadata": {},
      "source": [
        "\n",
        "Fine-tuning a transformer model on arXiv paper abstracts for downstream scientific text embedding tasks."
      ]
    },
    {
      "cell_type": "markdown",
      "metadata": {
        "id": "JrSyZr_r1hdm"
      },
      "source": [
        "## **Setup**"
      ]
    },
    {
      "cell_type": "markdown",
      "metadata": {},
      "source": [
        "This notebook is designed to work in both Google Colab and local environments.\n",
        "\n",
        "**For Google Colab:**\n",
        "- **Mount Google Drive:** Enables saving files and accessing them across Colab.\n",
        "    > ⚠ **Warning** <br>\n",
        "    > This mounts your entire Google Drive, giving theoretical access to all files. While the code only accesses the project folder, consider using a dedicated Google account.\n",
        "- **Clone the repository:** Ensures the latest code and utility modules are available.\n",
        "- Add repo to Python path: Lets us import custom project modules as regular Python packages.\n",
        "\n",
        "**For local environments:**\n",
        "- Add project root to Python path: Lets us import custom project modules from the parent directory.\n",
        "\n",
        "[ Optionally ]:\n",
        "- Enable Autoreload: Lets us modify utility modules without having to reload them manually (useful for development)."
      ]
    },
    {
      "cell_type": "code",
      "execution_count": 1,
      "metadata": {
        "executionInfo": {
          "elapsed": 92,
          "status": "ok",
          "timestamp": 1751239618178,
          "user": {
            "displayName": "reg1s",
            "userId": "07516612682395836605"
          },
          "user_tz": -120
        },
        "id": "oKXtY3sK94iZ"
      },
      "outputs": [],
      "source": [
        "import os\n",
        "import sys\n",
        "\n",
        "def setup_environment(repo_url, dev=False, drive_mount_path=\"/content/drive\"):\n",
        "    \"\"\"Sets up the development environment for both Google Colab and local environments.\"\"\"\n",
        "\n",
        "    if \"google.colab\" not in sys.modules:\n",
        "        # Define local project root\n",
        "        project_root = os.path.dirname(os.getcwd())\n",
        "\n",
        "        print(\"Not running in Google Colab.\\nSkipping Colab setup.\")\n",
        "\n",
        "    else:\n",
        "        # Mount Google Drive\n",
        "        from google.colab import drive\n",
        "        drive.mount(drive_mount_path, force_remount=True)\n",
        "\n",
        "        # Define where within Drive to clone the git repository\n",
        "        project_parent_dir = os.path.join(drive_mount_path, \"MyDrive\")\n",
        "        project_name = repo_url.split(\"/\")[-1].replace('.git', \"\")\n",
        "        project_root = os.path.join(project_parent_dir, project_name)\n",
        "\n",
        "        # Clone the repository if it doesn't exist\n",
        "        if not os.path.exists(project_root):\n",
        "            print(f\"\\nCloning repository into {project_root}\")\n",
        "            try:\n",
        "                os.chdir(project_parent_dir)  # Change to the parent directory to clone the repo\n",
        "                !git clone {repo_url}\n",
        "            finally:\n",
        "                os.chdir(project_root)  # Always change back to the original directory, even if clone fails\n",
        "        else:\n",
        "            print(f\"\\nRepository already exists at {project_root}\")\n",
        "\n",
        "        print(\"\\nColab setup complete.\")\n",
        "\n",
        "    # Add project to Python path\n",
        "    if project_root not in sys.path:\n",
        "        sys.path.insert(0, project_root)\n",
        "        print(f\"\\n'{project_root}' added to Python path.\")\n",
        "    else:\n",
        "        print(f\"\\n'{project_root}' in Python path.\")\n",
        "\n",
        "    # Enable autoreload (for developement)\n",
        "    if dev:\n",
        "        from IPython import get_ipython\n",
        "        ipython = get_ipython()\n",
        "\n",
        "        # Load extension quietly if not already loaded\n",
        "        if \"autoreload\" not in ipython.extension_manager.loaded:\n",
        "            ipython.magic(\"load_ext autoreload\")\n",
        "\n",
        "        print(\"\\nAutoreload extension enabled (mode 2).\")\n",
        "        ipython.magic(\"autoreload 2\")"
      ]
    },
    {
      "cell_type": "code",
      "execution_count": 2,
      "metadata": {
        "colab": {
          "base_uri": "https://localhost:8080/"
        },
        "executionInfo": {
          "elapsed": 3674,
          "status": "ok",
          "timestamp": 1751239621863,
          "user": {
            "displayName": "reg1s",
            "userId": "07516612682395836605"
          },
          "user_tz": -120
        },
        "id": "Djysmu_bpHNH",
        "outputId": "5d4a52df-64c4-463e-98df-94400e6b4889"
      },
      "outputs": [
        {
          "name": "stdout",
          "output_type": "stream",
          "text": [
            "Mounted at /content/drive\n",
            "\n",
            "Repository already exists at /content/drive/MyDrive/arxiv-semantic-search\n",
            "\n",
            "Colab setup complete.\n",
            "\n",
            "'/content/drive/MyDrive/arxiv-semantic-search' added to Python path.\n",
            "\n",
            "Autoreload extension enabled (mode 2).\n"
          ]
        }
      ],
      "source": [
        "setup_environment(\"https://github.com/nadrajak/arxiv-semantic-search.git\", dev=True)"
      ]
    },
    {
      "cell_type": "markdown",
      "metadata": {
        "id": "DAOBqy7y1y-l"
      },
      "source": [
        "## **Imports**"
      ]
    },
    {
      "cell_type": "code",
      "execution_count": 3,
      "metadata": {
        "executionInfo": {
          "elapsed": 23269,
          "status": "ok",
          "timestamp": 1751239645134,
          "user": {
            "displayName": "reg1s",
            "userId": "07516612682395836605"
          },
          "user_tz": -120
        },
        "id": "wPP5PyIK-_Bb"
      },
      "outputs": [],
      "source": [
        "import numpy as np\n",
        "import pandas as pd\n",
        "\n",
        "from sklearn.model_selection import train_test_split\n",
        "\n",
        "import torch\n",
        "\n",
        "from sentence_transformers import SentenceTransformer\n",
        "from sentence_transformers.trainer import SentenceTransformerTrainer\n",
        "from sentence_transformers.training_args import SentenceTransformerTrainingArguments\n",
        "from sentence_transformers.losses import TripletLoss\n",
        "\n",
        "from transformers import EarlyStoppingCallback\n",
        "\n",
        "# Custom modules\n",
        "from utils import config\n",
        "from utils import data_loader\n",
        "from utils import preprocessing\n",
        "from utils import triplet_dataset"
      ]
    },
    {
      "cell_type": "code",
      "execution_count": 4,
      "metadata": {
        "executionInfo": {
          "elapsed": 72,
          "status": "ok",
          "timestamp": 1751239645199,
          "user": {
            "displayName": "reg1s",
            "userId": "07516612682395836605"
          },
          "user_tz": -120
        },
        "id": "NQzZkbrUuJaf"
      },
      "outputs": [],
      "source": [
        "np.random.seed(config.RANDOM_SEED);\n",
        "torch.manual_seed(config.RANDOM_SEED);"
      ]
    },
    {
      "cell_type": "markdown",
      "metadata": {
        "id": "mvRtTbL34E57"
      },
      "source": [
        "## **Load data**\n"
      ]
    },
    {
      "cell_type": "markdown",
      "metadata": {},
      "source": [
        "We use the [arXiv dataset from Kaggle](https://www.kaggle.com/Cornell-University/arxiv), which contains metadata and abstracts for scholarly papers across STEM fields.\n",
        "\n",
        "Below, we load a sample of the dataset and briefly inspect its structure."
      ]
    },
    {
      "cell_type": "code",
      "execution_count": 5,
      "metadata": {
        "executionInfo": {
          "elapsed": 2113,
          "status": "ok",
          "timestamp": 1751239647323,
          "user": {
            "displayName": "reg1s",
            "userId": "07516612682395836605"
          },
          "user_tz": -120
        },
        "id": "X1HlvylVjufX"
      },
      "outputs": [],
      "source": [
        "# Download dataset from Kaggle\n",
        "arxiv_dataset_path = data_loader.load_arxiv_dataset()"
      ]
    },
    {
      "cell_type": "code",
      "execution_count": 6,
      "metadata": {
        "colab": {
          "base_uri": "https://localhost:8080/"
        },
        "executionInfo": {
          "elapsed": 2405,
          "status": "ok",
          "timestamp": 1751239649739,
          "user": {
            "displayName": "reg1s",
            "userId": "07516612682395836605"
          },
          "user_tz": -120
        },
        "id": "UrF_Ym8LG9AM",
        "outputId": "4951a90d-f8ac-461c-b1ce-f11eae6e26ca"
      },
      "outputs": [
        {
          "name": "stdout",
          "output_type": "stream",
          "text": [
            "<class 'pandas.core.frame.DataFrame'>\n",
            "RangeIndex: 15000 entries, 0 to 14999\n",
            "Data columns (total 14 columns):\n",
            " #   Column          Non-Null Count  Dtype  \n",
            "---  ------          --------------  -----  \n",
            " 0   id              15000 non-null  float64\n",
            " 1   submitter       15000 non-null  object \n",
            " 2   authors         15000 non-null  object \n",
            " 3   title           15000 non-null  object \n",
            " 4   comments        13240 non-null  object \n",
            " 5   journal-ref     7925 non-null   object \n",
            " 6   doi             9392 non-null   object \n",
            " 7   report-no       1358 non-null   object \n",
            " 8   categories      15000 non-null  object \n",
            " 9   license         1060 non-null   object \n",
            " 10  abstract        15000 non-null  object \n",
            " 11  versions        15000 non-null  object \n",
            " 12  update_date     15000 non-null  object \n",
            " 13  authors_parsed  15000 non-null  object \n",
            "dtypes: float64(1), object(13)\n",
            "memory usage: 1.6+ MB\n",
            "None\n"
          ]
        }
      ],
      "source": [
        "# Load json file as a pandas DataFrame\n",
        "data = pd.read_json(arxiv_dataset_path, lines=True, nrows=config.FT_NROWS)\n",
        "\n",
        "print(data.info())"
      ]
    },
    {
      "cell_type": "code",
      "execution_count": 7,
      "metadata": {
        "colab": {
          "base_uri": "https://localhost:8080/"
        },
        "executionInfo": {
          "elapsed": 341,
          "status": "ok",
          "timestamp": 1751239650089,
          "user": {
            "displayName": "reg1s",
            "userId": "07516612682395836605"
          },
          "user_tz": -120
        },
        "id": "gewNZTLbeg9t",
        "outputId": "3e2c0a9f-fe32-4b5e-cb71-fa98a4764faf"
      },
      "outputs": [
        {
          "name": "stdout",
          "output_type": "stream",
          "text": [
            "'  We describe a new algorithm, the $(k,\\ell)$-pebble game with colors, and use\n",
            "it obtain a characterization of the family of $(k,\\ell)$-sparse graphs and\n",
            "algorithmic solutions to a family of problems concerning tree decompositions of\n",
            "graphs. Special instances of sparse graphs appear in rigidity theory and have\n",
            "received increased attention in recent years. In particular, our colored\n",
            "pebbles generalize and strengthen the previous results of Lee and Streinu and\n",
            "give a new proof of the Tutte-Nash-Williams characterization of arboricity. We\n",
            "also present a new decomposition that certifies sparsity based on the\n",
            "$(k,\\ell)$-pebble game with colors. Our work also exposes connections between\n",
            "pebble game algorithms and previous sparse graph algorithms by Gabow, Gabow and\n",
            "Westermann and Hendrickson.\n",
            "'\n",
            "\n",
            "'math.CO cs.CG'\n"
          ]
        }
      ],
      "source": [
        "print(f\"'{data.iloc[1]['abstract']}'\")\n",
        "print(f\"\\n'{data.iloc[1]['categories']}'\")"
      ]
    },
    {
      "cell_type": "markdown",
      "metadata": {
        "id": "W4wMWRmvGWOr"
      },
      "source": [
        "## **Preprocessing**"
      ]
    },
    {
      "cell_type": "markdown",
      "metadata": {},
      "source": [
        "We apply light normalization to abstracts and simplify the category labels:\n",
        "- **Whitespace normalization:** Removes extra spaces, tabs, and newlines from text columns.\n",
        "- **Abstract normalization:** Filters abstracts to a predefined length range to ensure quality.\n",
        "- **Category truncation:** Keeps only the main/top-level categories.\n",
        "\n",
        "Below, we preprocess and sample the data."
      ]
    },
    {
      "cell_type": "code",
      "execution_count": 8,
      "metadata": {
        "colab": {
          "base_uri": "https://localhost:8080/",
          "height": 206
        },
        "executionInfo": {
          "elapsed": 557,
          "status": "ok",
          "timestamp": 1751239650656,
          "user": {
            "displayName": "reg1s",
            "userId": "07516612682395836605"
          },
          "user_tz": -120
        },
        "id": "qOOKUYsA1Kas",
        "outputId": "c87a8321-5500-4f33-bfe5-5bc8abd63dad"
      },
      "outputs": [
        {
          "data": {
            "application/vnd.google.colaboratory.intrinsic+json": {
              "summary": "{\n  \"name\": \"data\",\n  \"rows\": 15000,\n  \"fields\": [\n    {\n      \"column\": \"title\",\n      \"properties\": {\n        \"dtype\": \"string\",\n        \"num_unique_values\": 14998,\n        \"samples\": [\n          \"A construction of numerical Campedelli Surfaces with \\\\Z/6 torsion group\",\n          \"Non-Markovian decoherence dynamics of entangled coherent states\",\n          \"Host Galaxies Catalog Used in LIGO Searches for Compact Binary\\n  Coalescence Events\"\n        ],\n        \"semantic_type\": \"\",\n        \"description\": \"\"\n      }\n    },\n    {\n      \"column\": \"abstract\",\n      \"properties\": {\n        \"dtype\": \"string\",\n        \"num_unique_values\": 14988,\n        \"samples\": [\n          \"  We provide what we believe is the minimal three family ${\\\\cal N} = 1$ SUSY\\nand conformal Pati-Salam Model from type IIB superstring theory. This $Z_3$\\norbifolded AdS$\\\\otimes S^5$ model has long lived protons and has potential\\nphenomenological consequences for LHC.\\n\",\n          \"  Every complex plane curve C determines a subscheme S of the $P^8$ of 3x3\\nmatrices, whose projective normal cone (PNC) captures subtle invariants of C.\\nIn \\\"Limits of PGL(3)-translates of plane curves, I\\\" we obtain a set-theoretic\\ndescription of the PNC and thereby we determine all possible limits of families\\nof plane curves whose general element is isomorphic to C. The main result of\\nthis article is the determination of the PNC as a cycle; this is an essential\\ningredient in our computation in \\\"Linear orbits of arbitrary plane curves\\\" of\\nthe degree of the PGL(3)-orbit closure of an arbitrary plane curve, an\\ninvariant of natural enumerative significance.\\n\",\n          \"  Elongated Bose-Einstein condensates (BECs) exhibit strong spatial phase\\nfluctuations even well below the BEC transition temperature. We demonstrate\\nthat atom interferometers using such condensates are robust against phase\\nfluctuations, i.e. the relative phase of the split condensate is reproducible\\ndespite axial phase fluctuations. However, larger phase fluctuations limit the\\ncoherence time, especially in the presence of some asymmetries in the two wells\\nof the interferometer.\\n\"\n        ],\n        \"semantic_type\": \"\",\n        \"description\": \"\"\n      }\n    },\n    {\n      \"column\": \"categories\",\n      \"properties\": {\n        \"dtype\": \"category\",\n        \"num_unique_values\": 1874,\n        \"samples\": [\n          \"math.AG hep-th math.QA\",\n          \"physics.atom-ph physics.atm-clus\",\n          \"math.OC math.DG\"\n        ],\n        \"semantic_type\": \"\",\n        \"description\": \"\"\n      }\n    },\n    {\n      \"column\": \"authors\",\n      \"properties\": {\n        \"dtype\": \"string\",\n        \"num_unique_values\": 13978,\n        \"samples\": [\n          \"Chandru Iyer\",\n          \"Branislav Brutovsky, Denis Horvath and Vladimir Lisy\",\n          \"L. H. Pedersen and C. Rangan\"\n        ],\n        \"semantic_type\": \"\",\n        \"description\": \"\"\n      }\n    }\n  ]\n}",
              "type": "dataframe",
              "variable_name": "data"
            },
            "text/html": [
              "\n",
              "  <div id=\"df-41e5cede-6867-4f14-bb94-9062fc0686de\" class=\"colab-df-container\">\n",
              "    <div>\n",
              "<style scoped>\n",
              "    .dataframe tbody tr th:only-of-type {\n",
              "        vertical-align: middle;\n",
              "    }\n",
              "\n",
              "    .dataframe tbody tr th {\n",
              "        vertical-align: top;\n",
              "    }\n",
              "\n",
              "    .dataframe thead th {\n",
              "        text-align: right;\n",
              "    }\n",
              "</style>\n",
              "<table border=\"1\" class=\"dataframe\">\n",
              "  <thead>\n",
              "    <tr style=\"text-align: right;\">\n",
              "      <th></th>\n",
              "      <th>title</th>\n",
              "      <th>abstract</th>\n",
              "      <th>categories</th>\n",
              "      <th>authors</th>\n",
              "    </tr>\n",
              "  </thead>\n",
              "  <tbody>\n",
              "    <tr>\n",
              "      <th>0</th>\n",
              "      <td>Calculation of prompt diphoton production cros...</td>\n",
              "      <td>A fully differential calculation in perturba...</td>\n",
              "      <td>hep-ph</td>\n",
              "      <td>C. Bal\\'azs, E. L. Berger, P. M. Nadolsky, C.-...</td>\n",
              "    </tr>\n",
              "    <tr>\n",
              "      <th>1</th>\n",
              "      <td>Sparsity-certifying Graph Decompositions</td>\n",
              "      <td>We describe a new algorithm, the $(k,\\ell)$-...</td>\n",
              "      <td>math.CO cs.CG</td>\n",
              "      <td>Ileana Streinu and Louis Theran</td>\n",
              "    </tr>\n",
              "    <tr>\n",
              "      <th>2</th>\n",
              "      <td>The evolution of the Earth-Moon system based o...</td>\n",
              "      <td>The evolution of Earth-Moon system is descri...</td>\n",
              "      <td>physics.gen-ph</td>\n",
              "      <td>Hongjun Pan</td>\n",
              "    </tr>\n",
              "    <tr>\n",
              "      <th>3</th>\n",
              "      <td>A determinant of Stirling cycle numbers counts...</td>\n",
              "      <td>We show that a determinant of Stirling cycle...</td>\n",
              "      <td>math.CO</td>\n",
              "      <td>David Callan</td>\n",
              "    </tr>\n",
              "    <tr>\n",
              "      <th>4</th>\n",
              "      <td>From dyadic $\\Lambda_{\\alpha}$ to $\\Lambda_{\\a...</td>\n",
              "      <td>In this paper we show how to compute the $\\L...</td>\n",
              "      <td>math.CA math.FA</td>\n",
              "      <td>Wael Abu-Shammala and Alberto Torchinsky</td>\n",
              "    </tr>\n",
              "  </tbody>\n",
              "</table>\n",
              "</div>\n",
              "    <div class=\"colab-df-buttons\">\n",
              "\n",
              "  <div class=\"colab-df-container\">\n",
              "    <button class=\"colab-df-convert\" onclick=\"convertToInteractive('df-41e5cede-6867-4f14-bb94-9062fc0686de')\"\n",
              "            title=\"Convert this dataframe to an interactive table.\"\n",
              "            style=\"display:none;\">\n",
              "\n",
              "  <svg xmlns=\"http://www.w3.org/2000/svg\" height=\"24px\" viewBox=\"0 -960 960 960\">\n",
              "    <path d=\"M120-120v-720h720v720H120Zm60-500h600v-160H180v160Zm220 220h160v-160H400v160Zm0 220h160v-160H400v160ZM180-400h160v-160H180v160Zm440 0h160v-160H620v160ZM180-180h160v-160H180v160Zm440 0h160v-160H620v160Z\"/>\n",
              "  </svg>\n",
              "    </button>\n",
              "\n",
              "  <style>\n",
              "    .colab-df-container {\n",
              "      display:flex;\n",
              "      gap: 12px;\n",
              "    }\n",
              "\n",
              "    .colab-df-convert {\n",
              "      background-color: #E8F0FE;\n",
              "      border: none;\n",
              "      border-radius: 50%;\n",
              "      cursor: pointer;\n",
              "      display: none;\n",
              "      fill: #1967D2;\n",
              "      height: 32px;\n",
              "      padding: 0 0 0 0;\n",
              "      width: 32px;\n",
              "    }\n",
              "\n",
              "    .colab-df-convert:hover {\n",
              "      background-color: #E2EBFA;\n",
              "      box-shadow: 0px 1px 2px rgba(60, 64, 67, 0.3), 0px 1px 3px 1px rgba(60, 64, 67, 0.15);\n",
              "      fill: #174EA6;\n",
              "    }\n",
              "\n",
              "    .colab-df-buttons div {\n",
              "      margin-bottom: 4px;\n",
              "    }\n",
              "\n",
              "    [theme=dark] .colab-df-convert {\n",
              "      background-color: #3B4455;\n",
              "      fill: #D2E3FC;\n",
              "    }\n",
              "\n",
              "    [theme=dark] .colab-df-convert:hover {\n",
              "      background-color: #434B5C;\n",
              "      box-shadow: 0px 1px 3px 1px rgba(0, 0, 0, 0.15);\n",
              "      filter: drop-shadow(0px 1px 2px rgba(0, 0, 0, 0.3));\n",
              "      fill: #FFFFFF;\n",
              "    }\n",
              "  </style>\n",
              "\n",
              "    <script>\n",
              "      const buttonEl =\n",
              "        document.querySelector('#df-41e5cede-6867-4f14-bb94-9062fc0686de button.colab-df-convert');\n",
              "      buttonEl.style.display =\n",
              "        google.colab.kernel.accessAllowed ? 'block' : 'none';\n",
              "\n",
              "      async function convertToInteractive(key) {\n",
              "        const element = document.querySelector('#df-41e5cede-6867-4f14-bb94-9062fc0686de');\n",
              "        const dataTable =\n",
              "          await google.colab.kernel.invokeFunction('convertToInteractive',\n",
              "                                                    [key], {});\n",
              "        if (!dataTable) return;\n",
              "\n",
              "        const docLinkHtml = 'Like what you see? Visit the ' +\n",
              "          '<a target=\"_blank\" href=https://colab.research.google.com/notebooks/data_table.ipynb>data table notebook</a>'\n",
              "          + ' to learn more about interactive tables.';\n",
              "        element.innerHTML = '';\n",
              "        dataTable['output_type'] = 'display_data';\n",
              "        await google.colab.output.renderOutput(dataTable, element);\n",
              "        const docLink = document.createElement('div');\n",
              "        docLink.innerHTML = docLinkHtml;\n",
              "        element.appendChild(docLink);\n",
              "      }\n",
              "    </script>\n",
              "  </div>\n",
              "\n",
              "\n",
              "    <div id=\"df-52aadfc5-7497-4f61-9500-a3fc2f7c3489\">\n",
              "      <button class=\"colab-df-quickchart\" onclick=\"quickchart('df-52aadfc5-7497-4f61-9500-a3fc2f7c3489')\"\n",
              "                title=\"Suggest charts\"\n",
              "                style=\"display:none;\">\n",
              "\n",
              "<svg xmlns=\"http://www.w3.org/2000/svg\" height=\"24px\"viewBox=\"0 0 24 24\"\n",
              "     width=\"24px\">\n",
              "    <g>\n",
              "        <path d=\"M19 3H5c-1.1 0-2 .9-2 2v14c0 1.1.9 2 2 2h14c1.1 0 2-.9 2-2V5c0-1.1-.9-2-2-2zM9 17H7v-7h2v7zm4 0h-2V7h2v10zm4 0h-2v-4h2v4z\"/>\n",
              "    </g>\n",
              "</svg>\n",
              "      </button>\n",
              "\n",
              "<style>\n",
              "  .colab-df-quickchart {\n",
              "      --bg-color: #E8F0FE;\n",
              "      --fill-color: #1967D2;\n",
              "      --hover-bg-color: #E2EBFA;\n",
              "      --hover-fill-color: #174EA6;\n",
              "      --disabled-fill-color: #AAA;\n",
              "      --disabled-bg-color: #DDD;\n",
              "  }\n",
              "\n",
              "  [theme=dark] .colab-df-quickchart {\n",
              "      --bg-color: #3B4455;\n",
              "      --fill-color: #D2E3FC;\n",
              "      --hover-bg-color: #434B5C;\n",
              "      --hover-fill-color: #FFFFFF;\n",
              "      --disabled-bg-color: #3B4455;\n",
              "      --disabled-fill-color: #666;\n",
              "  }\n",
              "\n",
              "  .colab-df-quickchart {\n",
              "    background-color: var(--bg-color);\n",
              "    border: none;\n",
              "    border-radius: 50%;\n",
              "    cursor: pointer;\n",
              "    display: none;\n",
              "    fill: var(--fill-color);\n",
              "    height: 32px;\n",
              "    padding: 0;\n",
              "    width: 32px;\n",
              "  }\n",
              "\n",
              "  .colab-df-quickchart:hover {\n",
              "    background-color: var(--hover-bg-color);\n",
              "    box-shadow: 0 1px 2px rgba(60, 64, 67, 0.3), 0 1px 3px 1px rgba(60, 64, 67, 0.15);\n",
              "    fill: var(--button-hover-fill-color);\n",
              "  }\n",
              "\n",
              "  .colab-df-quickchart-complete:disabled,\n",
              "  .colab-df-quickchart-complete:disabled:hover {\n",
              "    background-color: var(--disabled-bg-color);\n",
              "    fill: var(--disabled-fill-color);\n",
              "    box-shadow: none;\n",
              "  }\n",
              "\n",
              "  .colab-df-spinner {\n",
              "    border: 2px solid var(--fill-color);\n",
              "    border-color: transparent;\n",
              "    border-bottom-color: var(--fill-color);\n",
              "    animation:\n",
              "      spin 1s steps(1) infinite;\n",
              "  }\n",
              "\n",
              "  @keyframes spin {\n",
              "    0% {\n",
              "      border-color: transparent;\n",
              "      border-bottom-color: var(--fill-color);\n",
              "      border-left-color: var(--fill-color);\n",
              "    }\n",
              "    20% {\n",
              "      border-color: transparent;\n",
              "      border-left-color: var(--fill-color);\n",
              "      border-top-color: var(--fill-color);\n",
              "    }\n",
              "    30% {\n",
              "      border-color: transparent;\n",
              "      border-left-color: var(--fill-color);\n",
              "      border-top-color: var(--fill-color);\n",
              "      border-right-color: var(--fill-color);\n",
              "    }\n",
              "    40% {\n",
              "      border-color: transparent;\n",
              "      border-right-color: var(--fill-color);\n",
              "      border-top-color: var(--fill-color);\n",
              "    }\n",
              "    60% {\n",
              "      border-color: transparent;\n",
              "      border-right-color: var(--fill-color);\n",
              "    }\n",
              "    80% {\n",
              "      border-color: transparent;\n",
              "      border-right-color: var(--fill-color);\n",
              "      border-bottom-color: var(--fill-color);\n",
              "    }\n",
              "    90% {\n",
              "      border-color: transparent;\n",
              "      border-bottom-color: var(--fill-color);\n",
              "    }\n",
              "  }\n",
              "</style>\n",
              "\n",
              "      <script>\n",
              "        async function quickchart(key) {\n",
              "          const quickchartButtonEl =\n",
              "            document.querySelector('#' + key + ' button');\n",
              "          quickchartButtonEl.disabled = true;  // To prevent multiple clicks.\n",
              "          quickchartButtonEl.classList.add('colab-df-spinner');\n",
              "          try {\n",
              "            const charts = await google.colab.kernel.invokeFunction(\n",
              "                'suggestCharts', [key], {});\n",
              "          } catch (error) {\n",
              "            console.error('Error during call to suggestCharts:', error);\n",
              "          }\n",
              "          quickchartButtonEl.classList.remove('colab-df-spinner');\n",
              "          quickchartButtonEl.classList.add('colab-df-quickchart-complete');\n",
              "        }\n",
              "        (() => {\n",
              "          let quickchartButtonEl =\n",
              "            document.querySelector('#df-52aadfc5-7497-4f61-9500-a3fc2f7c3489 button');\n",
              "          quickchartButtonEl.style.display =\n",
              "            google.colab.kernel.accessAllowed ? 'block' : 'none';\n",
              "        })();\n",
              "      </script>\n",
              "    </div>\n",
              "\n",
              "    </div>\n",
              "  </div>\n"
            ],
            "text/plain": [
              "                                               title  \\\n",
              "0  Calculation of prompt diphoton production cros...   \n",
              "1           Sparsity-certifying Graph Decompositions   \n",
              "2  The evolution of the Earth-Moon system based o...   \n",
              "3  A determinant of Stirling cycle numbers counts...   \n",
              "4  From dyadic $\\Lambda_{\\alpha}$ to $\\Lambda_{\\a...   \n",
              "\n",
              "                                            abstract       categories  \\\n",
              "0    A fully differential calculation in perturba...           hep-ph   \n",
              "1    We describe a new algorithm, the $(k,\\ell)$-...    math.CO cs.CG   \n",
              "2    The evolution of Earth-Moon system is descri...   physics.gen-ph   \n",
              "3    We show that a determinant of Stirling cycle...          math.CO   \n",
              "4    In this paper we show how to compute the $\\L...  math.CA math.FA   \n",
              "\n",
              "                                             authors  \n",
              "0  C. Bal\\'azs, E. L. Berger, P. M. Nadolsky, C.-...  \n",
              "1                    Ileana Streinu and Louis Theran  \n",
              "2                                        Hongjun Pan  \n",
              "3                                       David Callan  \n",
              "4           Wael Abu-Shammala and Alberto Torchinsky  "
            ]
          },
          "execution_count": 8,
          "metadata": {},
          "output_type": "execute_result"
        }
      ],
      "source": [
        "data = data[[\"title\", \"abstract\", \"categories\", \"authors\"]]\n",
        "\n",
        "data.head(5)"
      ]
    },
    {
      "cell_type": "code",
      "execution_count": 9,
      "metadata": {
        "colab": {
          "base_uri": "https://localhost:8080/"
        },
        "executionInfo": {
          "elapsed": 5097,
          "status": "ok",
          "timestamp": 1751239655754,
          "user": {
            "displayName": "reg1s",
            "userId": "07516612682395836605"
          },
          "user_tz": -120
        },
        "id": "vGOx35lUeMYH",
        "outputId": "92df70ed-68fd-451e-d3e5-feb7d558f3c0"
      },
      "outputs": [
        {
          "name": "stdout",
          "output_type": "stream",
          "text": [
            "<class 'pandas.core.frame.DataFrame'>\n",
            "Index: 14481 entries, 0 to 14999\n",
            "Data columns (total 4 columns):\n",
            " #   Column    Non-Null Count  Dtype \n",
            "---  ------    --------------  ----- \n",
            " 0   title     14481 non-null  object\n",
            " 1   abstract  14481 non-null  object\n",
            " 2   category  14481 non-null  object\n",
            " 3   authors   14481 non-null  object\n",
            "dtypes: object(4)\n",
            "memory usage: 565.7+ KB\n",
            "None\n"
          ]
        }
      ],
      "source": [
        "# Apply light preprocessing to text columns\n",
        "data = preprocessing.normalize_whitespace(data)\n",
        "data = preprocessing.normalize_abstracts(data)\n",
        "\n",
        "# Simplify categories\n",
        "data = preprocessing.truncate_categories(data)\n",
        "\n",
        "print(data.info())"
      ]
    },
    {
      "cell_type": "code",
      "execution_count": 10,
      "metadata": {
        "colab": {
          "base_uri": "https://localhost:8080/"
        },
        "executionInfo": {
          "elapsed": 233,
          "status": "ok",
          "timestamp": 1751239655999,
          "user": {
            "displayName": "reg1s",
            "userId": "07516612682395836605"
          },
          "user_tz": -120
        },
        "id": "S2CGmASV8lVQ",
        "outputId": "49e0e158-bfb8-46af-b79a-33706e09d78e"
      },
      "outputs": [
        {
          "name": "stdout",
          "output_type": "stream",
          "text": [
            "'We describe a new algorithm, the $(k,\\ell)$-pebble game with colors, and use it obtain a characterization of the family of $(k,\\ell)$-sparse graphs and algorithmic solutions to a family of problems concerning tree decompositions of graphs. Special instances of sparse graphs appear in rigidity theory and have received increased attention in recent years. In particular, our colored pebbles generalize and strengthen the previous results of Lee and Streinu and give a new proof of the Tutte-Nash-Williams characterization of arboricity. We also present a new decomposition that certifies sparsity based on the $(k,\\ell)$-pebble game with colors. Our work also exposes connections between pebble game algorithms and previous sparse graph algorithms by Gabow, Gabow and Westermann and Hendrickson.'\n",
            "\n",
            "'math'\n"
          ]
        }
      ],
      "source": [
        "print(f\"'{data.iloc[1]['abstract']}'\")\n",
        "print(f\"\\n'{data.iloc[1]['category']}'\")"
      ]
    },
    {
      "cell_type": "markdown",
      "metadata": {
        "id": "TADq-E883GSm"
      },
      "source": [
        "## **Fine-tuning**"
      ]
    },
    {
      "cell_type": "markdown",
      "metadata": {},
      "source": [
        "We use [AllenAI SPECTER](https://huggingface.co/allenai/specter), a transformer model designed for scientific paper embeddings. This model is further fine-tuned on our ArXiv subset using triplet loss, which encourages similar abstracts to have similar embeddings. The fine-tuned model is then pushed to the Hugging Face Hub for easy reuse.\n",
        "\n",
        "For robust evaluation, the data is split into:\n",
        "- **(4/6) Training set:** For model fitting.\n",
        "- **(1/6) Evaluation set:** For evaluating the base model.\n",
        "- **(1/6) Test set:** For evaluating the fine-tuned model.\n",
        "\n",
        "Performance is measured using **cosine accuracy** on triplet samples, where higher accuracy indicates better semantic understanding.\n",
        "\n",
        "Below, we fine-tune the model."
      ]
    },
    {
      "cell_type": "code",
      "execution_count": 11,
      "metadata": {
        "executionInfo": {
          "elapsed": 9081,
          "status": "ok",
          "timestamp": 1751239665082,
          "user": {
            "displayName": "reg1s",
            "userId": "07516612682395836605"
          },
          "user_tz": -120
        },
        "id": "qqakOy37k80D"
      },
      "outputs": [],
      "source": [
        "# Initialize model\n",
        "model = SentenceTransformer(\"allenai-specter\");\n",
        "\n",
        "# Move model to gpu if available\n",
        "device = torch.device('cuda') if torch.cuda.is_available() else torch.device('cpu')\n",
        "model.to(device);"
      ]
    },
    {
      "cell_type": "code",
      "execution_count": 12,
      "metadata": {
        "executionInfo": {
          "elapsed": 191,
          "status": "ok",
          "timestamp": 1751239665271,
          "user": {
            "displayName": "reg1s",
            "userId": "07516612682395836605"
          },
          "user_tz": -120
        },
        "id": "mRBl8uvTlVlz"
      },
      "outputs": [],
      "source": [
        "# Define training arguments -- mostly based on Transformers defaults (which SentenceTransformers wraps)\n",
        "# https://huggingface.co/docs/transformers/en/main_classes/trainer#transformers.Trainer\n",
        "args = SentenceTransformerTrainingArguments(\n",
        "    num_train_epochs=3,\n",
        "    per_device_train_batch_size=8,  # Max before CUDA out of memory\n",
        "    per_device_eval_batch_size=8,   # Max before CUDA out of memory\n",
        "    gradient_accumulation_steps=2,\n",
        "    lr_scheduler_type=\"cosine\",\n",
        "    learning_rate=2e-5,\n",
        "    warmup_ratio=0.1,\n",
        "    dataloader_pin_memory=False,\n",
        "    dataloader_num_workers=1,\n",
        "    fp16=True,\n",
        "    logging_steps=500,\n",
        "    eval_strategy=\"steps\",\n",
        "    eval_steps=500,\n",
        "    report_to=\"none\",\n",
        ")"
      ]
    },
    {
      "cell_type": "code",
      "execution_count": 13,
      "metadata": {
        "colab": {
          "base_uri": "https://localhost:8080/"
        },
        "executionInfo": {
          "elapsed": 248,
          "status": "ok",
          "timestamp": 1751239665521,
          "user": {
            "displayName": "reg1s",
            "userId": "07516612682395836605"
          },
          "user_tz": -120
        },
        "id": "OwCPRPiGNrA3",
        "outputId": "6c29c308-a14c-45d0-bc98-846f6206870d"
      },
      "outputs": [
        {
          "name": "stdout",
          "output_type": "stream",
          "text": [
            "Train: 9702, Eval: 2389, Test: 2390\n"
          ]
        }
      ],
      "source": [
        "# Split data into train and test\n",
        "train_data, eval_data = train_test_split(data, test_size=0.33, random_state=config.RANDOM_SEED)\n",
        "eval_data, test_data = train_test_split(eval_data, test_size=0.5, random_state=config.RANDOM_SEED)\n",
        "\n",
        "print(f\"Train: {len(train_data)}, Eval: {len(eval_data)}, Test: {len(test_data)}\")"
      ]
    },
    {
      "cell_type": "code",
      "execution_count": 14,
      "metadata": {
        "colab": {
          "base_uri": "https://localhost:8080/"
        },
        "executionInfo": {
          "elapsed": 22805,
          "status": "ok",
          "timestamp": 1751239688327,
          "user": {
            "displayName": "reg1s",
            "userId": "07516612682395836605"
          },
          "user_tz": -120
        },
        "id": "-OR0LKi6jmN6",
        "outputId": "5e91fad2-aa41-4a3a-cb0a-d785867a52e6"
      },
      "outputs": [
        {
          "name": "stdout",
          "output_type": "stream",
          "text": [
            "Train: Dataset({\n",
            "    features: ['anchor', 'positive', 'negative'],\n",
            "    num_rows: 10000\n",
            "})\n",
            "\n",
            "Eval: Dataset({\n",
            "    features: ['anchor', 'positive', 'negative'],\n",
            "    num_rows: 1000\n",
            "})\n",
            "\n",
            "Test: Dataset({\n",
            "    features: ['anchor', 'positive', 'negative'],\n",
            "    num_rows: 1000\n",
            "})\n"
          ]
        }
      ],
      "source": [
        "# Create train, eval, test datasets for SentenceTransformerTrainer\n",
        "train_dataset = triplet_dataset.create_dataset_for_trainer(train_data, n=config.FT_TRAIN_TRIPLETS)\n",
        "eval_dataset = triplet_dataset.create_dataset_for_trainer(eval_data, n=config.FT_EVAL_TRIPLETS)\n",
        "test_dataset = triplet_dataset.create_dataset_for_trainer(test_data, n=config.FT_TEST_TRIPLETS)\n",
        "\n",
        "print(f\"Train: {train_dataset}\\n\\nEval: {eval_dataset}\\n\\nTest: {test_dataset}\")"
      ]
    },
    {
      "cell_type": "code",
      "execution_count": 15,
      "metadata": {
        "executionInfo": {
          "elapsed": 126,
          "status": "ok",
          "timestamp": 1751239688455,
          "user": {
            "displayName": "reg1s",
            "userId": "07516612682395836605"
          },
          "user_tz": -120
        },
        "id": "bJMS0ETbjDUw"
      },
      "outputs": [],
      "source": [
        "# Create eval & testing evaluator for SentenceTransformerTrainer\n",
        "dev_evaluator = triplet_dataset.create_triplet_evaluator_for_trainer(eval_dataset)\n",
        "test_evaluator = triplet_dataset.create_triplet_evaluator_for_trainer(test_dataset)"
      ]
    },
    {
      "cell_type": "code",
      "execution_count": 16,
      "metadata": {
        "executionInfo": {
          "elapsed": 42817,
          "status": "ok",
          "timestamp": 1751239731282,
          "user": {
            "displayName": "reg1s",
            "userId": "07516612682395836605"
          },
          "user_tz": -120
        },
        "id": "byAfP_Ej3VXo"
      },
      "outputs": [],
      "source": [
        "base_eval_output = dev_evaluator(model)"
      ]
    },
    {
      "cell_type": "code",
      "execution_count": 17,
      "metadata": {
        "executionInfo": {
          "elapsed": 21,
          "status": "ok",
          "timestamp": 1751239731301,
          "user": {
            "displayName": "reg1s",
            "userId": "07516612682395836605"
          },
          "user_tz": -120
        },
        "id": "QFS4MVmwOUvr"
      },
      "outputs": [],
      "source": [
        "# Define training loss\n",
        "loss = TripletLoss(model)"
      ]
    },
    {
      "cell_type": "code",
      "execution_count": 18,
      "metadata": {
        "colab": {
          "base_uri": "https://localhost:8080/",
          "height": 17,
          "referenced_widgets": [
            "246b4022d7334facace86d01516230ba",
            "b2941eba17ef457fba4eddcff209a2d1",
            "4ffd060ee9ad46df96a398f91ae0a539",
            "ef5f2fb3b91d420fb1d2670b47fb655c",
            "cc30391c4dab423e835accb862c692c0",
            "8ef99c8f127e4862ac87703a3a45bf13",
            "69c82bf76ff24ec2b7721315fcf991de",
            "cd879df6213d4b77a3dcd160b2c71c30",
            "5298a5fd949d40eea6b06be70067b659",
            "3e01cabfef02449e97854d5f16aa8d61",
            "6eb2396392de44419b8246ea36370407"
          ]
        },
        "executionInfo": {
          "elapsed": 5152,
          "status": "ok",
          "timestamp": 1751239736455,
          "user": {
            "displayName": "reg1s",
            "userId": "07516612682395836605"
          },
          "user_tz": -120
        },
        "id": "xeM0nDiigoJB",
        "outputId": "ca85b34e-5284-4b49-d96c-653a7bec8a67"
      },
      "outputs": [
        {
          "data": {
            "application/vnd.jupyter.widget-view+json": {
              "model_id": "246b4022d7334facace86d01516230ba",
              "version_major": 2,
              "version_minor": 0
            },
            "text/plain": [
              "Computing widget examples:   0%|          | 0/1 [00:00<?, ?example/s]"
            ]
          },
          "metadata": {},
          "output_type": "display_data"
        }
      ],
      "source": [
        "# Initialize trainer\n",
        "trainer = SentenceTransformerTrainer(\n",
        "    model=model,\n",
        "    args=args,\n",
        "    train_dataset=train_dataset,\n",
        "    eval_dataset=eval_dataset,    # For validation loss\n",
        "    loss=loss,\n",
        "    evaluator=dev_evaluator       # For meaningful metrics\n",
        ")"
      ]
    },
    {
      "cell_type": "code",
      "execution_count": 19,
      "metadata": {
        "colab": {
          "base_uri": "https://localhost:8080/",
          "height": 188
        },
        "executionInfo": {
          "elapsed": 1464255,
          "status": "ok",
          "timestamp": 1751241200717,
          "user": {
            "displayName": "reg1s",
            "userId": "07516612682395836605"
          },
          "user_tz": -120
        },
        "id": "uMWsV5xgiHA5",
        "outputId": "4a4bdbf2-8655-4222-ce46-a079f7061fd4"
      },
      "outputs": [
        {
          "data": {
            "text/html": [
              "\n",
              "    <div>\n",
              "      \n",
              "      <progress value='1875' max='1875' style='width:300px; height:20px; vertical-align: middle;'></progress>\n",
              "      [1875/1875 24:22, Epoch 3/3]\n",
              "    </div>\n",
              "    <table border=\"1\" class=\"dataframe\">\n",
              "  <thead>\n",
              " <tr style=\"text-align: left;\">\n",
              "      <th>Step</th>\n",
              "      <th>Training Loss</th>\n",
              "      <th>Validation Loss</th>\n",
              "      <th>Triplet Eval Cosine Accuracy</th>\n",
              "    </tr>\n",
              "  </thead>\n",
              "  <tbody>\n",
              "    <tr>\n",
              "      <td>500</td>\n",
              "      <td>2.503100</td>\n",
              "      <td>0.795555</td>\n",
              "      <td>0.941000</td>\n",
              "    </tr>\n",
              "    <tr>\n",
              "      <td>1000</td>\n",
              "      <td>1.046400</td>\n",
              "      <td>0.759390</td>\n",
              "      <td>0.945000</td>\n",
              "    </tr>\n",
              "    <tr>\n",
              "      <td>1500</td>\n",
              "      <td>0.521800</td>\n",
              "      <td>0.708552</td>\n",
              "      <td>0.948000</td>\n",
              "    </tr>\n",
              "  </tbody>\n",
              "</table><p>"
            ],
            "text/plain": [
              "<IPython.core.display.HTML object>"
            ]
          },
          "metadata": {},
          "output_type": "display_data"
        },
        {
          "data": {
            "text/plain": [
              "TrainOutput(global_step=1875, training_loss=1.1498443074544271, metrics={'train_runtime': 1463.5962, 'train_samples_per_second': 20.497, 'train_steps_per_second': 1.281, 'total_flos': 0.0, 'train_loss': 1.1498443074544271, 'epoch': 3.0})"
            ]
          },
          "execution_count": 19,
          "metadata": {},
          "output_type": "execute_result"
        }
      ],
      "source": [
        "trainer.train()"
      ]
    },
    {
      "cell_type": "code",
      "execution_count": 20,
      "metadata": {
        "executionInfo": {
          "elapsed": 21399,
          "status": "ok",
          "timestamp": 1751241222106,
          "user": {
            "displayName": "reg1s",
            "userId": "07516612682395836605"
          },
          "user_tz": -120
        },
        "id": "wNrYthLPiRbl"
      },
      "outputs": [],
      "source": [
        "tuned_eval_output = dev_evaluator(model)\n",
        "tuned_test_output = test_evaluator(model)"
      ]
    },
    {
      "cell_type": "code",
      "execution_count": 21,
      "metadata": {
        "colab": {
          "base_uri": "https://localhost:8080/"
        },
        "executionInfo": {
          "elapsed": 98,
          "status": "ok",
          "timestamp": 1751241222196,
          "user": {
            "displayName": "reg1s",
            "userId": "07516612682395836605"
          },
          "user_tz": -120
        },
        "id": "Rt6CQqWWj8Kn",
        "outputId": "2ecb186c-575e-4d52-986e-47dc54b8cc12"
      },
      "outputs": [
        {
          "name": "stdout",
          "output_type": "stream",
          "text": [
            "Base model on eval dataset:  {'triplet_eval_cosine_accuracy': 0.8209999799728394}\n",
            "Tuned model on eval dataset: {'triplet_eval_cosine_accuracy': 0.9490000009536743}\n",
            "Tuned model on test dataset: {'triplet_eval_cosine_accuracy': 0.9470000267028809}\n"
          ]
        }
      ],
      "source": [
        "print(f\"Base model on eval dataset:  {base_eval_output}\")\n",
        "print(f\"Tuned model on eval dataset: {tuned_eval_output}\")\n",
        "print(f\"Tuned model on test dataset: {tuned_test_output}\")"
      ]
    },
    {
      "cell_type": "code",
      "execution_count": 23,
      "metadata": {
        "colab": {
          "base_uri": "https://localhost:8080/",
          "height": 160,
          "referenced_widgets": [
            "192d4e8fc57f4d468525ea6c5980bc01",
            "d9dc8096cc644d7198ccc2c788ac00d2",
            "1a8b973f4b5040f6b2d47f3beb95f4b2",
            "dac4c3a7a45c4ccfb34196f61effa36e",
            "26421cf6928440139de56534daacdb49",
            "047d7a28591949248eb17a5241a289f1",
            "27c267b8253d473fb1d244dcb635c268",
            "041741c2f45a4887a261c24eb757feb7",
            "491fb25c875f4860af269630c3882788",
            "0cc297941a054a4481b63fa7ebc8f03a",
            "eaf5b1d7623e43c4b9dd3e9b08c82842"
          ]
        },
        "collapsed": true,
        "executionInfo": {
          "elapsed": 17799,
          "status": "ok",
          "timestamp": 1751241311657,
          "user": {
            "displayName": "reg1s",
            "userId": "07516612682395836605"
          },
          "user_tz": -120
        },
        "id": "36CFFdIEQGSQ",
        "outputId": "6bb66439-0293-4f51-bab4-663ca8bd5969"
      },
      "outputs": [
        {
          "name": "stdout",
          "output_type": "stream",
          "text": [
            "The token has not been saved to the git credentials helper. Pass `add_to_git_credential=True` in this function directly or `--add-to-git-credential` if using via `huggingface-cli` if you want to set the git credential as well.\n",
            "Token is valid (permission: fineGrained).\n",
            "The token `kaggle` has been saved to /root/.cache/huggingface/stored_tokens\n",
            "Your token has been saved to /root/.cache/huggingface/token\n",
            "Login successful.\n",
            "The current active token is: `kaggle`\n"
          ]
        },
        {
          "data": {
            "application/vnd.jupyter.widget-view+json": {
              "model_id": "192d4e8fc57f4d468525ea6c5980bc01",
              "version_major": 2,
              "version_minor": 0
            },
            "text/plain": [
              "Uploading...:   0%|          | 0.00/440M [00:00<?, ?B/s]"
            ]
          },
          "metadata": {},
          "output_type": "display_data"
        }
      ],
      "source": [
        "# Check for Hugging Face login token\n",
        "from google.colab import userdata\n",
        "hf_token = userdata.get('HF_TOKEN')\n",
        "\n",
        "# Login and push fine-tuned model to Hugging face\n",
        "if hf_token:\n",
        "    !huggingface-cli login --token $hf_token\n",
        "    model.push_to_hub(\"nadrajak/allenai-specter-ft2\")"
      ]
    },
    {
      "cell_type": "code",
      "execution_count": null,
      "metadata": {
        "id": "Sa9T_lDdHX8v"
      },
      "outputs": [],
      "source": []
    }
  ],
  "metadata": {
    "accelerator": "GPU",
    "colab": {
      "cell_execution_strategy": "setup",
      "gpuType": "T4",
      "provenance": [
        {
          "file_id": "1p5Kc0Qeb2hF96Soki4l0Kz56-Uc0xqVk",
          "timestamp": 1751230436153
        },
        {
          "file_id": "1vf1r2MUkJeMrKJRdDfp-r2GFv-6eLJDG",
          "timestamp": 1750906801688
        }
      ]
    },
    "kernelspec": {
      "display_name": "Python 3",
      "name": "python3"
    },
    "language_info": {
      "codemirror_mode": {
        "name": "ipython",
        "version": 3
      },
      "file_extension": ".py",
      "mimetype": "text/x-python",
      "name": "python",
      "nbconvert_exporter": "python",
      "pygments_lexer": "ipython3",
      "version": "3.8.10"
    }
  },
  "nbformat": 4,
  "nbformat_minor": 0
}
