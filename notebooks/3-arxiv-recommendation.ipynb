{
  "cells": [
    {
      "cell_type": "markdown",
      "metadata": {
        "id": "d0Egblm41Xkl"
      },
      "source": [
        "# **arxiv-recommendation**"
      ]
    },
    {
      "cell_type": "markdown",
      "metadata": {
        "id": "EnQJmQaoZ1sU"
      },
      "source": [
        "Recommending similar arXiv papers based on the embeddings of their abstracts."
      ]
    },
    {
      "cell_type": "markdown",
      "metadata": {
        "id": "JrSyZr_r1hdm"
      },
      "source": [
        "## **Setup**"
      ]
    },
    {
      "cell_type": "markdown",
      "metadata": {
        "id": "BJr4g_2MZ1sV"
      },
      "source": [
        "This notebook is designed to work in both Google Colab and local environments.\n",
        "\n",
        "**For Google Colab:**\n",
        "- **Mount Google Drive:** Enables saving files and accessing them across Colab.\n",
        "    > \u26a0 **Warning** <br>\n",
        "    > This mounts your entire Google Drive, giving theoretical access to all files. While the code only accesses the project folder, consider using a dedicated Google account.\n",
        "- **Clone the repository:** Ensures the latest code and utility modules are available.\n",
        "- Add repo to Python path: Lets us import custom project modules as regular Python packages.\n",
        "\n",
        "**For local environments:**\n",
        "- Add project root to Python path: Lets us import custom project modules from the parent directory.\n",
        "\n",
        "[ Optionally ]:\n",
        "- Enable Autoreload: Lets us modify utility modules without having to reload them manually (useful for development)."
      ]
    },
    {
      "cell_type": "code",
      "execution_count": 1,
      "metadata": {
        "id": "oKXtY3sK94iZ",
        "executionInfo": {
          "status": "ok",
          "timestamp": 1751756915705,
          "user_tz": -120,
          "elapsed": 37,
          "user": {
            "displayName": "reg1s",
            "userId": "07516612682395836605"
          }
        }
      },
      "outputs": [],
      "source": [
        "import os\n",
        "import sys\n",
        "\n",
        "def setup_environment(repo_url, dev=False, drive_mount_path=\"/content/drive\"):\n",
        "    \"\"\"Sets up the development environment for both Google Colab and local environments.\"\"\"\n",
        "\n",
        "    if \"google.colab\" not in sys.modules:\n",
        "        # Define local project root\n",
        "        project_root = os.path.dirname(os.getcwd())\n",
        "\n",
        "        print(\"Not running in Google Colab.\\nSkipping Colab setup.\")\n",
        "\n",
        "    else:\n",
        "        # Mount Google Drive\n",
        "        from google.colab import drive\n",
        "        drive.mount(drive_mount_path, force_remount=True)\n",
        "\n",
        "        # Define where within Drive to clone the git repository\n",
        "        project_parent_dir = os.path.join(drive_mount_path, \"MyDrive\")\n",
        "        project_name = repo_url.split(\"/\")[-1].replace('.git', \"\")\n",
        "        project_root = os.path.join(project_parent_dir, project_name)\n",
        "\n",
        "        # Clone the repository if it doesn't exist\n",
        "        if not os.path.exists(project_root):\n",
        "            print(f\"\\nCloning repository into {project_root}\")\n",
        "            try:\n",
        "                os.chdir(project_parent_dir)  # Change to the parent directory to clone the repo\n",
        "                !git clone {repo_url}\n",
        "            finally:\n",
        "                os.chdir(project_root)  # Always change back to the original directory, even if clone fails\n",
        "        else:\n",
        "            print(f\"\\nRepository already exists at {project_root}\")\n",
        "\n",
        "        print(\"\\nColab setup complete.\")\n",
        "\n",
        "    # Add project to Python path\n",
        "    if project_root not in sys.path:\n",
        "        sys.path.insert(0, project_root)\n",
        "        print(f\"\\n'{project_root}' added to Python path.\")\n",
        "    else:\n",
        "        print(f\"\\n'{project_root}' in Python path.\")\n",
        "\n",
        "    # Enable autoreload (for developement)\n",
        "    if dev:\n",
        "        from IPython import get_ipython\n",
        "        ipython = get_ipython()\n",
        "\n",
        "        # Load extension quietly if not already loaded\n",
        "        if \"autoreload\" not in ipython.extension_manager.loaded:\n",
        "            ipython.magic(\"load_ext autoreload\")\n",
        "\n",
        "        print(\"\\nAutoreload extension enabled (mode 2).\")\n",
        "        ipython.magic(\"autoreload 2\")"
      ]
    },
    {
      "cell_type": "code",
      "execution_count": 2,
      "metadata": {
        "id": "Djysmu_bpHNH",
        "colab": {
          "base_uri": "https://localhost:8080/"
        },
        "executionInfo": {
          "status": "ok",
          "timestamp": 1751756920784,
          "user_tz": -120,
          "elapsed": 5080,
          "user": {
            "displayName": "reg1s",
            "userId": "07516612682395836605"
          }
        },
        "outputId": "8c7cd822-31f6-40b7-9349-1df4b9169a5f"
      },
      "outputs": [
        {
          "output_type": "stream",
          "name": "stdout",
          "text": [
            "Mounted at /content/drive\n",
            "\n",
            "Repository already exists at /content/drive/MyDrive/arxiv-semantic-search\n",
            "\n",
            "Colab setup complete.\n",
            "\n",
            "'/content/drive/MyDrive/arxiv-semantic-search' added to Python path.\n",
            "\n",
            "Autoreload extension enabled (mode 2).\n"
          ]
        }
      ],
      "source": [
        "setup_environment(\"https://github.com/nadrajak/arxiv-semantic-search.git\", dev=True)"
      ]
    },
    {
      "cell_type": "markdown",
      "metadata": {
        "id": "DAOBqy7y1y-l"
      },
      "source": [
        "## **Imports**"
      ]
    },
    {
      "cell_type": "code",
      "source": [
        "!pip install arxiv"
      ],
      "metadata": {
        "colab": {
          "base_uri": "https://localhost:8080/"
        },
        "id": "mkqzrHRjv9Z0",
        "executionInfo": {
          "status": "ok",
          "timestamp": 1751756930754,
          "user_tz": -120,
          "elapsed": 9969,
          "user": {
            "displayName": "reg1s",
            "userId": "07516612682395836605"
          }
        },
        "outputId": "c929d8c6-ebc8-4299-f3ef-961b72bf4495"
      },
      "execution_count": 3,
      "outputs": [
        {
          "output_type": "stream",
          "name": "stdout",
          "text": [
            "Requirement already satisfied: arxiv in /usr/local/lib/python3.11/dist-packages (2.2.0)\n",
            "Requirement already satisfied: feedparser~=6.0.10 in /usr/local/lib/python3.11/dist-packages (from arxiv) (6.0.11)\n",
            "Requirement already satisfied: requests~=2.32.0 in /usr/local/lib/python3.11/dist-packages (from arxiv) (2.32.3)\n",
            "Requirement already satisfied: sgmllib3k in /usr/local/lib/python3.11/dist-packages (from feedparser~=6.0.10->arxiv) (1.0.0)\n",
            "Requirement already satisfied: charset-normalizer<4,>=2 in /usr/local/lib/python3.11/dist-packages (from requests~=2.32.0->arxiv) (3.4.2)\n",
            "Requirement already satisfied: idna<4,>=2.5 in /usr/local/lib/python3.11/dist-packages (from requests~=2.32.0->arxiv) (3.10)\n",
            "Requirement already satisfied: urllib3<3,>=1.21.1 in /usr/local/lib/python3.11/dist-packages (from requests~=2.32.0->arxiv) (2.4.0)\n",
            "Requirement already satisfied: certifi>=2017.4.17 in /usr/local/lib/python3.11/dist-packages (from requests~=2.32.0->arxiv) (2025.6.15)\n"
          ]
        }
      ]
    },
    {
      "cell_type": "code",
      "execution_count": 4,
      "metadata": {
        "id": "wPP5PyIK-_Bb",
        "executionInfo": {
          "status": "ok",
          "timestamp": 1751756946590,
          "user_tz": -120,
          "elapsed": 15834,
          "user": {
            "displayName": "reg1s",
            "userId": "07516612682395836605"
          }
        }
      },
      "outputs": [],
      "source": [
        "import numpy as np\n",
        "import pandas as pd\n",
        "\n",
        "import arxiv\n",
        "\n",
        "import torch\n",
        "\n",
        "from sentence_transformers import SentenceTransformer\n",
        "from sentence_transformers.util import semantic_search\n",
        "\n",
        "\n",
        "# Custom modules\n",
        "from utils import config\n",
        "from utils import data_loader\n",
        "from utils import preprocessing"
      ]
    },
    {
      "cell_type": "code",
      "execution_count": 5,
      "metadata": {
        "id": "NQzZkbrUuJaf",
        "executionInfo": {
          "status": "ok",
          "timestamp": 1751756946679,
          "user_tz": -120,
          "elapsed": 92,
          "user": {
            "displayName": "reg1s",
            "userId": "07516612682395836605"
          }
        }
      },
      "outputs": [],
      "source": [
        "# Initialize randomness\n",
        "np.random.seed(config.RANDOM_SEED);\n",
        "torch.manual_seed(config.RANDOM_SEED);"
      ]
    },
    {
      "cell_type": "markdown",
      "metadata": {
        "id": "mvRtTbL34E57"
      },
      "source": [
        "## **Load data**\n"
      ]
    },
    {
      "cell_type": "markdown",
      "metadata": {
        "id": "VufBXBm0Z1sZ"
      },
      "source": [
        "We use the [arXiv dataset from Kaggle](https://www.kaggle.com/Cornell-University/arxiv), which contains metadata and abstracts for scholarly papers across STEM fields.\n",
        "\n",
        "Below, we load a sample of the dataset and briefly inspect its structure."
      ]
    },
    {
      "cell_type": "code",
      "execution_count": 6,
      "metadata": {
        "id": "X1HlvylVjufX",
        "executionInfo": {
          "status": "ok",
          "timestamp": 1751756949798,
          "user_tz": -120,
          "elapsed": 3118,
          "user": {
            "displayName": "reg1s",
            "userId": "07516612682395836605"
          }
        }
      },
      "outputs": [],
      "source": [
        "# Download dataset from Kaggle\n",
        "arxiv_dataset_path = data_loader.load_arxiv_dataset()"
      ]
    },
    {
      "cell_type": "code",
      "execution_count": 7,
      "metadata": {
        "id": "UrF_Ym8LG9AM",
        "colab": {
          "base_uri": "https://localhost:8080/"
        },
        "executionInfo": {
          "status": "ok",
          "timestamp": 1751756951138,
          "user_tz": -120,
          "elapsed": 1338,
          "user": {
            "displayName": "reg1s",
            "userId": "07516612682395836605"
          }
        },
        "outputId": "1d1f452f-2a03-44a2-e579-41562e50b767"
      },
      "outputs": [
        {
          "output_type": "stream",
          "name": "stdout",
          "text": [
            "<class 'pandas.core.frame.DataFrame'>\n",
            "RangeIndex: 1000 entries, 15000 to 15999\n",
            "Data columns (total 14 columns):\n",
            " #   Column          Non-Null Count  Dtype  \n",
            "---  ------          --------------  -----  \n",
            " 0   id              1000 non-null   float64\n",
            " 1   submitter       1000 non-null   object \n",
            " 2   authors         1000 non-null   object \n",
            " 3   title           1000 non-null   object \n",
            " 4   comments        875 non-null    object \n",
            " 5   journal-ref     512 non-null    object \n",
            " 6   doi             646 non-null    object \n",
            " 7   report-no       80 non-null     object \n",
            " 8   categories      1000 non-null   object \n",
            " 9   license         77 non-null     object \n",
            " 10  abstract        1000 non-null   object \n",
            " 11  versions        1000 non-null   object \n",
            " 12  update_date     1000 non-null   object \n",
            " 13  authors_parsed  1000 non-null   object \n",
            "dtypes: float64(1), object(13)\n",
            "memory usage: 109.5+ KB\n",
            "None\n"
          ]
        }
      ],
      "source": [
        "# Load json file as a pandas DataFrame\n",
        "recommend_nrows = 1_000\n",
        "data = pd.read_json(arxiv_dataset_path, lines=True, nrows=(config.FT_NROWS + recommend_nrows))\n",
        "\n",
        "# Skip first `config.FT_NROWS` because they were used for training\n",
        "data = data.iloc[config.FT_NROWS:]\n",
        "\n",
        "print(data.info())"
      ]
    },
    {
      "cell_type": "markdown",
      "metadata": {
        "id": "W4wMWRmvGWOr"
      },
      "source": [
        "## **Preprocessing**"
      ]
    },
    {
      "cell_type": "code",
      "execution_count": 8,
      "metadata": {
        "id": "qOOKUYsA1Kas",
        "executionInfo": {
          "status": "ok",
          "timestamp": 1751756951605,
          "user_tz": -120,
          "elapsed": 465,
          "user": {
            "displayName": "reg1s",
            "userId": "07516612682395836605"
          }
        }
      },
      "outputs": [],
      "source": [
        "# Select essential columns\n",
        "data = data[[\"title\", \"abstract\", \"categories\", \"authors\"]].copy()\n",
        "\n",
        "# Apply light preprocessing to text columns\n",
        "data = preprocessing.normalize_whitespace(data)\n",
        "data = preprocessing.normalize_abstracts(data)\n",
        "\n",
        "# Simplify categories\n",
        "data = preprocessing.truncate_categories(data)"
      ]
    },
    {
      "cell_type": "code",
      "execution_count": 9,
      "metadata": {
        "id": "vGOx35lUeMYH",
        "colab": {
          "base_uri": "https://localhost:8080/",
          "height": 293
        },
        "executionInfo": {
          "status": "ok",
          "timestamp": 1751756951749,
          "user_tz": -120,
          "elapsed": 138,
          "user": {
            "displayName": "reg1s",
            "userId": "07516612682395836605"
          }
        },
        "outputId": "a3f33898-6ef4-47ad-c139-d369fd54e68f"
      },
      "outputs": [
        {
          "output_type": "execute_result",
          "data": {
            "text/plain": [
              "                                                   title  \\\n",
              "15000  Nonlinear transport of Bose-Einstein condensat...   \n",
              "15001  On the geometry of the moduli space of spin cu...   \n",
              "15002  Rotational cooling efficiency upon molecular i...   \n",
              "15003               On the girth of random Cayley graphs   \n",
              "15004  A Conceptual Analysis of Mass Loss and Frequen...   \n",
              "\n",
              "                                                abstract  category  \\\n",
              "15000  We study the coherent flow of interacting Bose...  cond-mat   \n",
              "15001  We determine the smooth locus and the locus of...      math   \n",
              "15002  The low-temperature (up to about 100K) collisi...   physics   \n",
              "15003  We prove that random d-regular Cayley graphs o...      math   \n",
              "15004  To better understand Wolf-Rayet stars as proge...  astro-ph   \n",
              "\n",
              "                                                 authors  \n",
              "15000  Tobias Paul, Michael Hartung, Klaus Richter, a...  \n",
              "15001                                   Katharina Ludwig  \n",
              "15002                 M. Wernli. E. Bodo, F.A. Gianturco  \n",
              "15003  Alex Gamburd, Shlomo Hoory, Mehrdad Shahshahan...  \n",
              "15004                      A. J. Onifer and K. G. Gayley  "
            ],
            "text/html": [
              "\n",
              "  <div id=\"df-6ff3a296-0b0d-41e5-b0a9-b9ccf8d18339\" class=\"colab-df-container\">\n",
              "    <div>\n",
              "<style scoped>\n",
              "    .dataframe tbody tr th:only-of-type {\n",
              "        vertical-align: middle;\n",
              "    }\n",
              "\n",
              "    .dataframe tbody tr th {\n",
              "        vertical-align: top;\n",
              "    }\n",
              "\n",
              "    .dataframe thead th {\n",
              "        text-align: right;\n",
              "    }\n",
              "</style>\n",
              "<table border=\"1\" class=\"dataframe\">\n",
              "  <thead>\n",
              "    <tr style=\"text-align: right;\">\n",
              "      <th></th>\n",
              "      <th>title</th>\n",
              "      <th>abstract</th>\n",
              "      <th>category</th>\n",
              "      <th>authors</th>\n",
              "    </tr>\n",
              "  </thead>\n",
              "  <tbody>\n",
              "    <tr>\n",
              "      <th>15000</th>\n",
              "      <td>Nonlinear transport of Bose-Einstein condensat...</td>\n",
              "      <td>We study the coherent flow of interacting Bose...</td>\n",
              "      <td>cond-mat</td>\n",
              "      <td>Tobias Paul, Michael Hartung, Klaus Richter, a...</td>\n",
              "    </tr>\n",
              "    <tr>\n",
              "      <th>15001</th>\n",
              "      <td>On the geometry of the moduli space of spin cu...</td>\n",
              "      <td>We determine the smooth locus and the locus of...</td>\n",
              "      <td>math</td>\n",
              "      <td>Katharina Ludwig</td>\n",
              "    </tr>\n",
              "    <tr>\n",
              "      <th>15002</th>\n",
              "      <td>Rotational cooling efficiency upon molecular i...</td>\n",
              "      <td>The low-temperature (up to about 100K) collisi...</td>\n",
              "      <td>physics</td>\n",
              "      <td>M. Wernli. E. Bodo, F.A. Gianturco</td>\n",
              "    </tr>\n",
              "    <tr>\n",
              "      <th>15003</th>\n",
              "      <td>On the girth of random Cayley graphs</td>\n",
              "      <td>We prove that random d-regular Cayley graphs o...</td>\n",
              "      <td>math</td>\n",
              "      <td>Alex Gamburd, Shlomo Hoory, Mehrdad Shahshahan...</td>\n",
              "    </tr>\n",
              "    <tr>\n",
              "      <th>15004</th>\n",
              "      <td>A Conceptual Analysis of Mass Loss and Frequen...</td>\n",
              "      <td>To better understand Wolf-Rayet stars as proge...</td>\n",
              "      <td>astro-ph</td>\n",
              "      <td>A. J. Onifer and K. G. Gayley</td>\n",
              "    </tr>\n",
              "  </tbody>\n",
              "</table>\n",
              "</div>\n",
              "    <div class=\"colab-df-buttons\">\n",
              "\n",
              "  <div class=\"colab-df-container\">\n",
              "    <button class=\"colab-df-convert\" onclick=\"convertToInteractive('df-6ff3a296-0b0d-41e5-b0a9-b9ccf8d18339')\"\n",
              "            title=\"Convert this dataframe to an interactive table.\"\n",
              "            style=\"display:none;\">\n",
              "\n",
              "  <svg xmlns=\"http://www.w3.org/2000/svg\" height=\"24px\" viewBox=\"0 -960 960 960\">\n",
              "    <path d=\"M120-120v-720h720v720H120Zm60-500h600v-160H180v160Zm220 220h160v-160H400v160Zm0 220h160v-160H400v160ZM180-400h160v-160H180v160Zm440 0h160v-160H620v160ZM180-180h160v-160H180v160Zm440 0h160v-160H620v160Z\"/>\n",
              "  </svg>\n",
              "    </button>\n",
              "\n",
              "  <style>\n",
              "    .colab-df-container {\n",
              "      display:flex;\n",
              "      gap: 12px;\n",
              "    }\n",
              "\n",
              "    .colab-df-convert {\n",
              "      background-color: #E8F0FE;\n",
              "      border: none;\n",
              "      border-radius: 50%;\n",
              "      cursor: pointer;\n",
              "      display: none;\n",
              "      fill: #1967D2;\n",
              "      height: 32px;\n",
              "      padding: 0 0 0 0;\n",
              "      width: 32px;\n",
              "    }\n",
              "\n",
              "    .colab-df-convert:hover {\n",
              "      background-color: #E2EBFA;\n",
              "      box-shadow: 0px 1px 2px rgba(60, 64, 67, 0.3), 0px 1px 3px 1px rgba(60, 64, 67, 0.15);\n",
              "      fill: #174EA6;\n",
              "    }\n",
              "\n",
              "    .colab-df-buttons div {\n",
              "      margin-bottom: 4px;\n",
              "    }\n",
              "\n",
              "    [theme=dark] .colab-df-convert {\n",
              "      background-color: #3B4455;\n",
              "      fill: #D2E3FC;\n",
              "    }\n",
              "\n",
              "    [theme=dark] .colab-df-convert:hover {\n",
              "      background-color: #434B5C;\n",
              "      box-shadow: 0px 1px 3px 1px rgba(0, 0, 0, 0.15);\n",
              "      filter: drop-shadow(0px 1px 2px rgba(0, 0, 0, 0.3));\n",
              "      fill: #FFFFFF;\n",
              "    }\n",
              "  </style>\n",
              "\n",
              "    <script>\n",
              "      const buttonEl =\n",
              "        document.querySelector('#df-6ff3a296-0b0d-41e5-b0a9-b9ccf8d18339 button.colab-df-convert');\n",
              "      buttonEl.style.display =\n",
              "        google.colab.kernel.accessAllowed ? 'block' : 'none';\n",
              "\n",
              "      async function convertToInteractive(key) {\n",
              "        const element = document.querySelector('#df-6ff3a296-0b0d-41e5-b0a9-b9ccf8d18339');\n",
              "        const dataTable =\n",
              "          await google.colab.kernel.invokeFunction('convertToInteractive',\n",
              "                                                    [key], {});\n",
              "        if (!dataTable) return;\n",
              "\n",
              "        const docLinkHtml = 'Like what you see? Visit the ' +\n",
              "          '<a target=\"_blank\" href=https://colab.research.google.com/notebooks/data_table.ipynb>data table notebook</a>'\n",
              "          + ' to learn more about interactive tables.';\n",
              "        element.innerHTML = '';\n",
              "        dataTable['output_type'] = 'display_data';\n",
              "        await google.colab.output.renderOutput(dataTable, element);\n",
              "        const docLink = document.createElement('div');\n",
              "        docLink.innerHTML = docLinkHtml;\n",
              "        element.appendChild(docLink);\n",
              "      }\n",
              "    </script>\n",
              "  </div>\n",
              "\n",
              "\n",
              "    <div id=\"df-69e660e6-1a4e-4bea-9ea2-92823aa2b4d9\">\n",
              "      <button class=\"colab-df-quickchart\" onclick=\"quickchart('df-69e660e6-1a4e-4bea-9ea2-92823aa2b4d9')\"\n",
              "                title=\"Suggest charts\"\n",
              "                style=\"display:none;\">\n",
              "\n",
              "<svg xmlns=\"http://www.w3.org/2000/svg\" height=\"24px\"viewBox=\"0 0 24 24\"\n",
              "     width=\"24px\">\n",
              "    <g>\n",
              "        <path d=\"M19 3H5c-1.1 0-2 .9-2 2v14c0 1.1.9 2 2 2h14c1.1 0 2-.9 2-2V5c0-1.1-.9-2-2-2zM9 17H7v-7h2v7zm4 0h-2V7h2v10zm4 0h-2v-4h2v4z\"/>\n",
              "    </g>\n",
              "</svg>\n",
              "      </button>\n",
              "\n",
              "<style>\n",
              "  .colab-df-quickchart {\n",
              "      --bg-color: #E8F0FE;\n",
              "      --fill-color: #1967D2;\n",
              "      --hover-bg-color: #E2EBFA;\n",
              "      --hover-fill-color: #174EA6;\n",
              "      --disabled-fill-color: #AAA;\n",
              "      --disabled-bg-color: #DDD;\n",
              "  }\n",
              "\n",
              "  [theme=dark] .colab-df-quickchart {\n",
              "      --bg-color: #3B4455;\n",
              "      --fill-color: #D2E3FC;\n",
              "      --hover-bg-color: #434B5C;\n",
              "      --hover-fill-color: #FFFFFF;\n",
              "      --disabled-bg-color: #3B4455;\n",
              "      --disabled-fill-color: #666;\n",
              "  }\n",
              "\n",
              "  .colab-df-quickchart {\n",
              "    background-color: var(--bg-color);\n",
              "    border: none;\n",
              "    border-radius: 50%;\n",
              "    cursor: pointer;\n",
              "    display: none;\n",
              "    fill: var(--fill-color);\n",
              "    height: 32px;\n",
              "    padding: 0;\n",
              "    width: 32px;\n",
              "  }\n",
              "\n",
              "  .colab-df-quickchart:hover {\n",
              "    background-color: var(--hover-bg-color);\n",
              "    box-shadow: 0 1px 2px rgba(60, 64, 67, 0.3), 0 1px 3px 1px rgba(60, 64, 67, 0.15);\n",
              "    fill: var(--button-hover-fill-color);\n",
              "  }\n",
              "\n",
              "  .colab-df-quickchart-complete:disabled,\n",
              "  .colab-df-quickchart-complete:disabled:hover {\n",
              "    background-color: var(--disabled-bg-color);\n",
              "    fill: var(--disabled-fill-color);\n",
              "    box-shadow: none;\n",
              "  }\n",
              "\n",
              "  .colab-df-spinner {\n",
              "    border: 2px solid var(--fill-color);\n",
              "    border-color: transparent;\n",
              "    border-bottom-color: var(--fill-color);\n",
              "    animation:\n",
              "      spin 1s steps(1) infinite;\n",
              "  }\n",
              "\n",
              "  @keyframes spin {\n",
              "    0% {\n",
              "      border-color: transparent;\n",
              "      border-bottom-color: var(--fill-color);\n",
              "      border-left-color: var(--fill-color);\n",
              "    }\n",
              "    20% {\n",
              "      border-color: transparent;\n",
              "      border-left-color: var(--fill-color);\n",
              "      border-top-color: var(--fill-color);\n",
              "    }\n",
              "    30% {\n",
              "      border-color: transparent;\n",
              "      border-left-color: var(--fill-color);\n",
              "      border-top-color: var(--fill-color);\n",
              "      border-right-color: var(--fill-color);\n",
              "    }\n",
              "    40% {\n",
              "      border-color: transparent;\n",
              "      border-right-color: var(--fill-color);\n",
              "      border-top-color: var(--fill-color);\n",
              "    }\n",
              "    60% {\n",
              "      border-color: transparent;\n",
              "      border-right-color: var(--fill-color);\n",
              "    }\n",
              "    80% {\n",
              "      border-color: transparent;\n",
              "      border-right-color: var(--fill-color);\n",
              "      border-bottom-color: var(--fill-color);\n",
              "    }\n",
              "    90% {\n",
              "      border-color: transparent;\n",
              "      border-bottom-color: var(--fill-color);\n",
              "    }\n",
              "  }\n",
              "</style>\n",
              "\n",
              "      <script>\n",
              "        async function quickchart(key) {\n",
              "          const quickchartButtonEl =\n",
              "            document.querySelector('#' + key + ' button');\n",
              "          quickchartButtonEl.disabled = true;  // To prevent multiple clicks.\n",
              "          quickchartButtonEl.classList.add('colab-df-spinner');\n",
              "          try {\n",
              "            const charts = await google.colab.kernel.invokeFunction(\n",
              "                'suggestCharts', [key], {});\n",
              "          } catch (error) {\n",
              "            console.error('Error during call to suggestCharts:', error);\n",
              "          }\n",
              "          quickchartButtonEl.classList.remove('colab-df-spinner');\n",
              "          quickchartButtonEl.classList.add('colab-df-quickchart-complete');\n",
              "        }\n",
              "        (() => {\n",
              "          let quickchartButtonEl =\n",
              "            document.querySelector('#df-69e660e6-1a4e-4bea-9ea2-92823aa2b4d9 button');\n",
              "          quickchartButtonEl.style.display =\n",
              "            google.colab.kernel.accessAllowed ? 'block' : 'none';\n",
              "        })();\n",
              "      </script>\n",
              "    </div>\n",
              "\n",
              "    </div>\n",
              "  </div>\n"
            ],
            "application/vnd.google.colaboratory.intrinsic+json": {
              "type": "dataframe",
              "variable_name": "data",
              "summary": "{\n  \"name\": \"data\",\n  \"rows\": 965,\n  \"fields\": [\n    {\n      \"column\": \"title\",\n      \"properties\": {\n        \"dtype\": \"string\",\n        \"num_unique_values\": 965,\n        \"samples\": [\n          \"On the internal space dependence of the static quark-antiquark potential in ${\\\\cal N}=4$ SYM plasma wind\",\n          \"Classical mechanics as nonlinear quantum mechanics\",\n          \"Working Modes and Aspects in Fully-Parallel Manipulator\"\n        ],\n        \"semantic_type\": \"\",\n        \"description\": \"\"\n      }\n    },\n    {\n      \"column\": \"abstract\",\n      \"properties\": {\n        \"dtype\": \"string\",\n        \"num_unique_values\": 965,\n        \"samples\": [\n          \"We study the effect of the relative S^5-angle of a quark and an antiquark on their static potential and the related screening length in a strongly coupled moving ${\\\\cal N}=4$ SYM plasma. The large velocity scaling law for the screening length holds for any relative S^5-angle $\\\\theta$. However, the velocity independent prefactor Z strongly depends on $\\\\theta$. For comparison with QCD we propose to average Z over all relative orientations on S^5. This generates a suppression factor relative to the case $\\\\theta =0$.\",\n          \"All measurable predictions of classical mechanics can be reproduced from a quantum-like interpretation of a nonlinear Schrodinger equation. The key observation leading to classical physics is the fact that a wave function that satisfies a linear equation is real and positive, rather than complex. This has profound implications on the role of the Bohmian classical-like interpretation of linear quantum mechanics, as well as on the possibilities to find a consistent interpretation of arbitrary nonlinear generalizations of quantum mechanics.\",\n          \"The aim of this paper is to characterize the notion of aspect in the workspace and in the joint space for parallel manipulators. In opposite to the serial manipulators, the parallel manipulators can admit not only multiple inverse kinematic solutions, but also multiple direct kinematic solutions. The notion of aspect introduced for serial manipulators in [Borrel 86], and redefined for parallel manipulators with only one inverse kinematic solution in [Wenger 1997], is redefined for general fully parallel manipulators. Two Jacobian matrices appear in the kinematic relations between the joint-rate and the Cartesian-velocity vectors, which are called the \\\"inverse kinematics\\\" and the \\\"direct kinematics\\\" matrices. The study of these matrices allow to respectively define the parallel and the serial singularities. The notion of working modes is introduced to separate inverse kinematic solutions. Thus, we can find out domains of the workspace and the joint space exempt of singularity. Application of this study is the moveability analysis in the workspace of the manipulator as well as path-planing and control. This study is illustrated in this paper with a RR-RRR planar parallel manipulator.\"\n        ],\n        \"semantic_type\": \"\",\n        \"description\": \"\"\n      }\n    },\n    {\n      \"column\": \"category\",\n      \"properties\": {\n        \"dtype\": \"category\",\n        \"num_unique_values\": 13,\n        \"samples\": [\n          \"q-bio\",\n          \"q-fin\",\n          \"cond-mat\"\n        ],\n        \"semantic_type\": \"\",\n        \"description\": \"\"\n      }\n    },\n    {\n      \"column\": \"authors\",\n      \"properties\": {\n        \"dtype\": \"string\",\n        \"num_unique_values\": 934,\n        \"samples\": [\n          \"Cristian Armendariz-Picon, Mark Trodden, Eric J. West\",\n          \"Victor Alexandrov, Dmitry Krotov, Andrei Losev, Vyacheslav Lysov\",\n          \"Philip Kaaret and Hua Feng\"\n        ],\n        \"semantic_type\": \"\",\n        \"description\": \"\"\n      }\n    }\n  ]\n}"
            }
          },
          "metadata": {},
          "execution_count": 9
        }
      ],
      "source": [
        "data.head()"
      ]
    },
    {
      "cell_type": "markdown",
      "source": [
        "## **Load model**"
      ],
      "metadata": {
        "id": "N8tMC8whyy8W"
      }
    },
    {
      "cell_type": "code",
      "source": [
        "model = SentenceTransformer(\"nadrajak/allenai-specter-ft2\")"
      ],
      "metadata": {
        "id": "p2hjViIay1y_",
        "executionInfo": {
          "status": "ok",
          "timestamp": 1751756959710,
          "user_tz": -120,
          "elapsed": 7959,
          "user": {
            "displayName": "reg1s",
            "userId": "07516612682395836605"
          }
        }
      },
      "execution_count": 10,
      "outputs": []
    },
    {
      "cell_type": "code",
      "source": [
        "corpus_embeddings = model.encode(data[\"abstract\"].to_list())"
      ],
      "metadata": {
        "id": "WAM48oNUy4dy",
        "executionInfo": {
          "status": "ok",
          "timestamp": 1751756975799,
          "user_tz": -120,
          "elapsed": 16092,
          "user": {
            "displayName": "reg1s",
            "userId": "07516612682395836605"
          }
        }
      },
      "execution_count": 11,
      "outputs": []
    },
    {
      "cell_type": "markdown",
      "source": [
        "## **Recommendation**"
      ],
      "metadata": {
        "id": "J_Nks_hLaz06"
      }
    },
    {
      "cell_type": "code",
      "source": [
        "def id_to_url(id):\n",
        "    \"\"\"Converts an arXiv paper ID to its URL.\"\"\"\n",
        "    id_a, id_b = id.split(\".\")\n",
        "    url  = f\"https://arxiv.org/abs/{id_a.zfill(4)}.{id_b}\"\n",
        "\n",
        "    return url"
      ],
      "metadata": {
        "id": "fr9O-7UuvjrF",
        "executionInfo": {
          "status": "ok",
          "timestamp": 1751756975826,
          "user_tz": -120,
          "elapsed": 25,
          "user": {
            "displayName": "reg1s",
            "userId": "07516612682395836605"
          }
        }
      },
      "execution_count": 12,
      "outputs": []
    },
    {
      "cell_type": "code",
      "source": [
        "def get_paper_info(url):\n",
        "    \"\"\"Fetches paper information from arXiv given a paper URL.\"\"\"\n",
        "\n",
        "    id = url.split(\"/\")[-1]\n",
        "\n",
        "    # Create session & look up paper using an API wrapper\n",
        "    client = arxiv.Client()\n",
        "    search = arxiv.Search(id_list=[id])\n",
        "    results = client.results(search)\n",
        "\n",
        "    for r in results:\n",
        "        title = r.title\n",
        "        abstract = r.summary\n",
        "        categories = \" \".join(r.categories)\n",
        "        authors_parsed = [[a.name] for a in r.authors]\n",
        "\n",
        "    result_df = pd.DataFrame({\n",
        "        \"title\": title,\n",
        "        \"abstract\": abstract,\n",
        "        \"categories\": categories,\n",
        "        \"authors_parsed\": [authors_parsed],\n",
        "    })\n",
        "\n",
        "    result_df = preprocessing.normalize_whitespace(result_df)\n",
        "    result_df = preprocessing.normalize_abstracts(result_df)\n",
        "    result_df = preprocessing.truncate_categories(result_df)\n",
        "\n",
        "    return result_df\n"
      ],
      "metadata": {
        "id": "Ycj1ZuMtvlmX",
        "executionInfo": {
          "status": "ok",
          "timestamp": 1751756975892,
          "user_tz": -120,
          "elapsed": 64,
          "user": {
            "displayName": "reg1s",
            "userId": "07516612682395836605"
          }
        }
      },
      "execution_count": 13,
      "outputs": []
    },
    {
      "cell_type": "code",
      "source": [
        "url_1 = \"https://arxiv.org/abs/1605.08386\"\n",
        "url_2 = id_to_url(\"704.0001\")"
      ],
      "metadata": {
        "id": "YtcdL7mvmZk0",
        "executionInfo": {
          "status": "ok",
          "timestamp": 1751756975957,
          "user_tz": -120,
          "elapsed": 62,
          "user": {
            "displayName": "reg1s",
            "userId": "07516612682395836605"
          }
        }
      },
      "execution_count": 14,
      "outputs": []
    },
    {
      "cell_type": "code",
      "source": [
        "res = get_paper_info(url_2)\n",
        "res"
      ],
      "metadata": {
        "colab": {
          "base_uri": "https://localhost:8080/",
          "height": 98
        },
        "id": "UYbCa084pjLg",
        "executionInfo": {
          "status": "ok",
          "timestamp": 1751756976118,
          "user_tz": -120,
          "elapsed": 158,
          "user": {
            "displayName": "reg1s",
            "userId": "07516612682395836605"
          }
        },
        "outputId": "5a9fed94-e3e9-4b54-fb53-7a00948894fa"
      },
      "execution_count": 15,
      "outputs": [
        {
          "output_type": "execute_result",
          "data": {
            "text/plain": [
              "                                               title  \\\n",
              "0  Calculation of prompt diphoton production cros...   \n",
              "\n",
              "                                            abstract category  \\\n",
              "0  A fully differential calculation in perturbati...      hep   \n",
              "\n",
              "                                      authors_parsed  \n",
              "0  [[C. Bal\u00e1zs], [E. L. Berger], [P. M. Nadolsky]...  "
            ],
            "text/html": [
              "\n",
              "  <div id=\"df-9abafe90-46c0-4bf9-8031-37b28f454db7\" class=\"colab-df-container\">\n",
              "    <div>\n",
              "<style scoped>\n",
              "    .dataframe tbody tr th:only-of-type {\n",
              "        vertical-align: middle;\n",
              "    }\n",
              "\n",
              "    .dataframe tbody tr th {\n",
              "        vertical-align: top;\n",
              "    }\n",
              "\n",
              "    .dataframe thead th {\n",
              "        text-align: right;\n",
              "    }\n",
              "</style>\n",
              "<table border=\"1\" class=\"dataframe\">\n",
              "  <thead>\n",
              "    <tr style=\"text-align: right;\">\n",
              "      <th></th>\n",
              "      <th>title</th>\n",
              "      <th>abstract</th>\n",
              "      <th>category</th>\n",
              "      <th>authors_parsed</th>\n",
              "    </tr>\n",
              "  </thead>\n",
              "  <tbody>\n",
              "    <tr>\n",
              "      <th>0</th>\n",
              "      <td>Calculation of prompt diphoton production cros...</td>\n",
              "      <td>A fully differential calculation in perturbati...</td>\n",
              "      <td>hep</td>\n",
              "      <td>[[C. Bal\u00e1zs], [E. L. Berger], [P. M. Nadolsky]...</td>\n",
              "    </tr>\n",
              "  </tbody>\n",
              "</table>\n",
              "</div>\n",
              "    <div class=\"colab-df-buttons\">\n",
              "\n",
              "  <div class=\"colab-df-container\">\n",
              "    <button class=\"colab-df-convert\" onclick=\"convertToInteractive('df-9abafe90-46c0-4bf9-8031-37b28f454db7')\"\n",
              "            title=\"Convert this dataframe to an interactive table.\"\n",
              "            style=\"display:none;\">\n",
              "\n",
              "  <svg xmlns=\"http://www.w3.org/2000/svg\" height=\"24px\" viewBox=\"0 -960 960 960\">\n",
              "    <path d=\"M120-120v-720h720v720H120Zm60-500h600v-160H180v160Zm220 220h160v-160H400v160Zm0 220h160v-160H400v160ZM180-400h160v-160H180v160Zm440 0h160v-160H620v160ZM180-180h160v-160H180v160Zm440 0h160v-160H620v160Z\"/>\n",
              "  </svg>\n",
              "    </button>\n",
              "\n",
              "  <style>\n",
              "    .colab-df-container {\n",
              "      display:flex;\n",
              "      gap: 12px;\n",
              "    }\n",
              "\n",
              "    .colab-df-convert {\n",
              "      background-color: #E8F0FE;\n",
              "      border: none;\n",
              "      border-radius: 50%;\n",
              "      cursor: pointer;\n",
              "      display: none;\n",
              "      fill: #1967D2;\n",
              "      height: 32px;\n",
              "      padding: 0 0 0 0;\n",
              "      width: 32px;\n",
              "    }\n",
              "\n",
              "    .colab-df-convert:hover {\n",
              "      background-color: #E2EBFA;\n",
              "      box-shadow: 0px 1px 2px rgba(60, 64, 67, 0.3), 0px 1px 3px 1px rgba(60, 64, 67, 0.15);\n",
              "      fill: #174EA6;\n",
              "    }\n",
              "\n",
              "    .colab-df-buttons div {\n",
              "      margin-bottom: 4px;\n",
              "    }\n",
              "\n",
              "    [theme=dark] .colab-df-convert {\n",
              "      background-color: #3B4455;\n",
              "      fill: #D2E3FC;\n",
              "    }\n",
              "\n",
              "    [theme=dark] .colab-df-convert:hover {\n",
              "      background-color: #434B5C;\n",
              "      box-shadow: 0px 1px 3px 1px rgba(0, 0, 0, 0.15);\n",
              "      filter: drop-shadow(0px 1px 2px rgba(0, 0, 0, 0.3));\n",
              "      fill: #FFFFFF;\n",
              "    }\n",
              "  </style>\n",
              "\n",
              "    <script>\n",
              "      const buttonEl =\n",
              "        document.querySelector('#df-9abafe90-46c0-4bf9-8031-37b28f454db7 button.colab-df-convert');\n",
              "      buttonEl.style.display =\n",
              "        google.colab.kernel.accessAllowed ? 'block' : 'none';\n",
              "\n",
              "      async function convertToInteractive(key) {\n",
              "        const element = document.querySelector('#df-9abafe90-46c0-4bf9-8031-37b28f454db7');\n",
              "        const dataTable =\n",
              "          await google.colab.kernel.invokeFunction('convertToInteractive',\n",
              "                                                    [key], {});\n",
              "        if (!dataTable) return;\n",
              "\n",
              "        const docLinkHtml = 'Like what you see? Visit the ' +\n",
              "          '<a target=\"_blank\" href=https://colab.research.google.com/notebooks/data_table.ipynb>data table notebook</a>'\n",
              "          + ' to learn more about interactive tables.';\n",
              "        element.innerHTML = '';\n",
              "        dataTable['output_type'] = 'display_data';\n",
              "        await google.colab.output.renderOutput(dataTable, element);\n",
              "        const docLink = document.createElement('div');\n",
              "        docLink.innerHTML = docLinkHtml;\n",
              "        element.appendChild(docLink);\n",
              "      }\n",
              "    </script>\n",
              "  </div>\n",
              "\n",
              "\n",
              "  <div id=\"id_f5484c07-598a-4c8c-8348-e5f8adea0b0b\">\n",
              "    <style>\n",
              "      .colab-df-generate {\n",
              "        background-color: #E8F0FE;\n",
              "        border: none;\n",
              "        border-radius: 50%;\n",
              "        cursor: pointer;\n",
              "        display: none;\n",
              "        fill: #1967D2;\n",
              "        height: 32px;\n",
              "        padding: 0 0 0 0;\n",
              "        width: 32px;\n",
              "      }\n",
              "\n",
              "      .colab-df-generate:hover {\n",
              "        background-color: #E2EBFA;\n",
              "        box-shadow: 0px 1px 2px rgba(60, 64, 67, 0.3), 0px 1px 3px 1px rgba(60, 64, 67, 0.15);\n",
              "        fill: #174EA6;\n",
              "      }\n",
              "\n",
              "      [theme=dark] .colab-df-generate {\n",
              "        background-color: #3B4455;\n",
              "        fill: #D2E3FC;\n",
              "      }\n",
              "\n",
              "      [theme=dark] .colab-df-generate:hover {\n",
              "        background-color: #434B5C;\n",
              "        box-shadow: 0px 1px 3px 1px rgba(0, 0, 0, 0.15);\n",
              "        filter: drop-shadow(0px 1px 2px rgba(0, 0, 0, 0.3));\n",
              "        fill: #FFFFFF;\n",
              "      }\n",
              "    </style>\n",
              "    <button class=\"colab-df-generate\" onclick=\"generateWithVariable('res')\"\n",
              "            title=\"Generate code using this dataframe.\"\n",
              "            style=\"display:none;\">\n",
              "\n",
              "  <svg xmlns=\"http://www.w3.org/2000/svg\" height=\"24px\"viewBox=\"0 0 24 24\"\n",
              "       width=\"24px\">\n",
              "    <path d=\"M7,19H8.4L18.45,9,17,7.55,7,17.6ZM5,21V16.75L18.45,3.32a2,2,0,0,1,2.83,0l1.4,1.43a1.91,1.91,0,0,1,.58,1.4,1.91,1.91,0,0,1-.58,1.4L9.25,21ZM18.45,9,17,7.55Zm-12,3A5.31,5.31,0,0,0,4.9,8.1,5.31,5.31,0,0,0,1,6.5,5.31,5.31,0,0,0,4.9,4.9,5.31,5.31,0,0,0,6.5,1,5.31,5.31,0,0,0,8.1,4.9,5.31,5.31,0,0,0,12,6.5,5.46,5.46,0,0,0,6.5,12Z\"/>\n",
              "  </svg>\n",
              "    </button>\n",
              "    <script>\n",
              "      (() => {\n",
              "      const buttonEl =\n",
              "        document.querySelector('#id_f5484c07-598a-4c8c-8348-e5f8adea0b0b button.colab-df-generate');\n",
              "      buttonEl.style.display =\n",
              "        google.colab.kernel.accessAllowed ? 'block' : 'none';\n",
              "\n",
              "      buttonEl.onclick = () => {\n",
              "        google.colab.notebook.generateWithVariable('res');\n",
              "      }\n",
              "      })();\n",
              "    </script>\n",
              "  </div>\n",
              "\n",
              "    </div>\n",
              "  </div>\n"
            ],
            "application/vnd.google.colaboratory.intrinsic+json": {
              "type": "dataframe",
              "variable_name": "res",
              "summary": "{\n  \"name\": \"res\",\n  \"rows\": 1,\n  \"fields\": [\n    {\n      \"column\": \"title\",\n      \"properties\": {\n        \"dtype\": \"string\",\n        \"num_unique_values\": 1,\n        \"samples\": [\n          \"Calculation of prompt diphoton production cross sections at Tevatron and LHC energies\"\n        ],\n        \"semantic_type\": \"\",\n        \"description\": \"\"\n      }\n    },\n    {\n      \"column\": \"abstract\",\n      \"properties\": {\n        \"dtype\": \"string\",\n        \"num_unique_values\": 1,\n        \"samples\": [\n          \"A fully differential calculation in perturbative quantum chromodynamics is presented for the production of massive photon pairs at hadron colliders. All next-to-leading order perturbative contributions from quark-antiquark, gluon-(anti)quark, and gluon-gluon subprocesses are included, as well as all-orders resummation of initial-state gluon radiation valid at next-to-next-to-leading logarithmic accuracy. The region of phase space is specified in which the calculation is most reliable. Good agreement is demonstrated with data from the Fermilab Tevatron, and predictions are made for more detailed tests with CDF and DO data. Predictions are shown for distributions of diphoton pairs produced at the energy of the Large Hadron Collider (LHC). Distributions of the diphoton pairs from the decay of a Higgs boson are contrasted with those produced from QCD processes at the LHC, showing that enhanced sensitivity to the signal can be obtained with judicious selection of events.\"\n        ],\n        \"semantic_type\": \"\",\n        \"description\": \"\"\n      }\n    },\n    {\n      \"column\": \"category\",\n      \"properties\": {\n        \"dtype\": \"string\",\n        \"num_unique_values\": 1,\n        \"samples\": [\n          \"hep\"\n        ],\n        \"semantic_type\": \"\",\n        \"description\": \"\"\n      }\n    },\n    {\n      \"column\": \"authors_parsed\",\n      \"properties\": {\n        \"dtype\": \"object\",\n        \"semantic_type\": \"\",\n        \"description\": \"\"\n      }\n    }\n  ]\n}"
            }
          },
          "metadata": {},
          "execution_count": 15
        }
      ]
    },
    {
      "cell_type": "code",
      "source": [
        "query_embedding = model.encode(res[\"abstract\"])\n",
        "\n",
        "hits = semantic_search(query_embedding, corpus_embeddings, top_k=5)\n",
        "hits = hits[0]"
      ],
      "metadata": {
        "id": "ExVFhOoAwry7",
        "executionInfo": {
          "status": "ok",
          "timestamp": 1751756976263,
          "user_tz": -120,
          "elapsed": 143,
          "user": {
            "displayName": "reg1s",
            "userId": "07516612682395836605"
          }
        }
      },
      "execution_count": 16,
      "outputs": []
    },
    {
      "cell_type": "code",
      "source": [
        "print(f\"{res.iloc[0]['category']}, {res.iloc[0]['title']}\\n\")\n",
        "\n",
        "for hit in hits:\n",
        "    print(f\"Score {hit['score']:.4f}\")\n",
        "    result = data.iloc[hit['corpus_id']]\n",
        "    print(f\"  {result['category']}, {result['title']}\")"
      ],
      "metadata": {
        "colab": {
          "base_uri": "https://localhost:8080/"
        },
        "id": "fDVWiqBzxmUV",
        "executionInfo": {
          "status": "ok",
          "timestamp": 1751756976378,
          "user_tz": -120,
          "elapsed": 118,
          "user": {
            "displayName": "reg1s",
            "userId": "07516612682395836605"
          }
        },
        "outputId": "e38cf578-64e0-4930-e0b3-0804216d585e"
      },
      "execution_count": 17,
      "outputs": [
        {
          "output_type": "stream",
          "name": "stdout",
          "text": [
            "hep, Calculation of prompt diphoton production cross sections at Tevatron and LHC energies\n",
            "\n",
            "Score 0.9744\n",
            "  hep, Tomography for amplitudes of hard exclusive processes\n",
            "Score 0.9730\n",
            "  hep, High p_T Top Quarks at the Large Hadron Collider\n",
            "Score 0.9681\n",
            "  hep, Measurement of Moments of the Hadronic-Mass and -Energy Spectrum in Inclusive Semileptonic $\\bar{B} \\to X_{c} \\ell^{-} \\bar{\\nu}$ Decays\n",
            "Score 0.9677\n",
            "  hep, Mixings of 4-quark components in light non-singlet scalar mesons in QCD sum rules\n",
            "Score 0.9657\n",
            "  hep, KLOE measurement of the charged kaon absolute semileptonic BR's\n"
          ]
        }
      ]
    }
  ],
  "metadata": {
    "accelerator": "GPU",
    "colab": {
      "cell_execution_strategy": "setup",
      "gpuType": "T4",
      "provenance": [
        {
          "file_id": "1p5Kc0Qeb2hF96Soki4l0Kz56-Uc0xqVk",
          "timestamp": 1751230436153
        },
        {
          "file_id": "1vf1r2MUkJeMrKJRdDfp-r2GFv-6eLJDG",
          "timestamp": 1750906801688
        }
      ]
    },
    "kernelspec": {
      "display_name": "Python 3",
      "name": "python3"
    },
    "language_info": {
      "codemirror_mode": {
        "name": "ipython",
        "version": 3
      },
      "file_extension": ".py",
      "mimetype": "text/x-python",
      "name": "python",
      "nbconvert_exporter": "python",
      "pygments_lexer": "ipython3",
      "version": "3.8.10"
    }
  },
  "nbformat": 4,
  "nbformat_minor": 0
}
