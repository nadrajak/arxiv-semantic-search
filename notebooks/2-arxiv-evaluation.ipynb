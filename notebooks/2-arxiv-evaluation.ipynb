{
  "cells": [
    {
      "cell_type": "markdown",
      "metadata": {
        "id": "d0Egblm41Xkl"
      },
      "source": [
        "# **arxiv-evaluation**"
      ]
    },
    {
      "cell_type": "markdown",
      "metadata": {
        "id": "c_xfANX_R8uk"
      },
      "source": [
        "Evaluating the quality of embeddings across increasingly specialized models.\n"
      ]
    },
    {
      "cell_type": "markdown",
      "metadata": {
        "id": "JrSyZr_r1hdm"
      },
      "source": [
        "## **Setup**"
      ]
    },
    {
      "cell_type": "markdown",
      "metadata": {
        "id": "EcgUEkbkR8uk"
      },
      "source": [
        "This notebook is designed to work in both Google Colab and local environments.\n",
        "\n",
        "**For Google Colab:**\n",
        "- **Mount Google Drive:** Enables saving files and accessing them across Colab.\n",
        "    > ⚠ **Warning** <br>\n",
        "    > This mounts your entire Google Drive, giving theoretical access to all files. While the code only accesses the project folder, consider using a dedicated Google account.\n",
        "- **Clone the repository:** Ensures the latest code and utility modules are available.\n",
        "- Add repo to Python path: Lets us import custom project modules as regular Python packages.\n",
        "\n",
        "**For local environments:**\n",
        "- Add project root to Python path: Lets us import custom project modules from the parent directory.\n",
        "\n",
        "[ Optionally ]:\n",
        "- Enable Autoreload: Lets us modify utility modules without having to reload them manually (useful for development)."
      ]
    },
    {
      "cell_type": "code",
      "execution_count": 1,
      "metadata": {
        "executionInfo": {
          "elapsed": 21,
          "status": "ok",
          "timestamp": 1751478675154,
          "user": {
            "displayName": "reg1s",
            "userId": "07516612682395836605"
          },
          "user_tz": -120
        },
        "id": "oKXtY3sK94iZ"
      },
      "outputs": [],
      "source": [
        "import os\n",
        "import sys\n",
        "\n",
        "def setup_environment(repo_url, dev=False, drive_mount_path=\"/content/drive\"):\n",
        "    \"\"\"Sets up the development environment for both Google Colab and local environments.\"\"\"\n",
        "\n",
        "    if \"google.colab\" not in sys.modules:\n",
        "        # Define local project root\n",
        "        project_root = os.path.dirname(os.getcwd())\n",
        "\n",
        "        print(\"Not running in Google Colab.\\nSkipping Colab setup.\")\n",
        "\n",
        "    else:\n",
        "        # Mount Google Drive\n",
        "        from google.colab import drive\n",
        "        drive.mount(drive_mount_path, force_remount=True)\n",
        "\n",
        "        # Define where within Drive to clone the git repository\n",
        "        project_parent_dir = os.path.join(drive_mount_path, \"MyDrive\")\n",
        "        project_name = repo_url.split(\"/\")[-1].replace('.git', \"\")\n",
        "        project_root = os.path.join(project_parent_dir, project_name)\n",
        "\n",
        "        # Clone the repository if it doesn't exist\n",
        "        if not os.path.exists(project_root):\n",
        "            print(f\"\\nCloning repository into {project_root}\")\n",
        "            try:\n",
        "                os.chdir(project_parent_dir)  # Change to the parent directory to clone the repo\n",
        "                !git clone {repo_url}\n",
        "            finally:\n",
        "                os.chdir(project_root)  # Always change back to the original directory, even if clone fails\n",
        "        else:\n",
        "            print(f\"\\nRepository already exists at {project_root}\")\n",
        "\n",
        "        print(\"\\nColab setup complete.\")\n",
        "\n",
        "    # Add project to Python path\n",
        "    if project_root not in sys.path:\n",
        "        sys.path.insert(0, project_root)\n",
        "        print(f\"\\n'{project_root}' added to Python path.\")\n",
        "    else:\n",
        "        print(f\"\\n'{project_root}' in Python path.\")\n",
        "\n",
        "    # Enable autoreload (for developement)\n",
        "    if dev:\n",
        "        from IPython import get_ipython\n",
        "        ipython = get_ipython()\n",
        "\n",
        "        # Load extension quietly if not already loaded\n",
        "        if \"autoreload\" not in ipython.extension_manager.loaded:\n",
        "            ipython.magic(\"load_ext autoreload\")\n",
        "\n",
        "        print(\"\\nAutoreload extension enabled (mode 2).\")\n",
        "        ipython.magic(\"autoreload 2\")"
      ]
    },
    {
      "cell_type": "code",
      "execution_count": 2,
      "metadata": {
        "colab": {
          "base_uri": "https://localhost:8080/"
        },
        "executionInfo": {
          "elapsed": 6178,
          "status": "ok",
          "timestamp": 1751478681323,
          "user": {
            "displayName": "reg1s",
            "userId": "07516612682395836605"
          },
          "user_tz": -120
        },
        "id": "Djysmu_bpHNH",
        "outputId": "f046d799-62c9-4bde-9dd4-aaee83f0749e"
      },
      "outputs": [
        {
          "name": "stdout",
          "output_type": "stream",
          "text": [
            "Mounted at /content/drive\n",
            "\n",
            "Repository already exists at /content/drive/MyDrive/arxiv-semantic-search\n",
            "\n",
            "Colab setup complete.\n",
            "\n",
            "'/content/drive/MyDrive/arxiv-semantic-search' added to Python path.\n",
            "\n",
            "Autoreload extension enabled (mode 2).\n"
          ]
        }
      ],
      "source": [
        "setup_environment(\"https://github.com/nadrajak/arxiv-semantic-search.git\", dev=True)"
      ]
    },
    {
      "cell_type": "markdown",
      "metadata": {
        "id": "DAOBqy7y1y-l"
      },
      "source": [
        "## **Imports**"
      ]
    },
    {
      "cell_type": "code",
      "execution_count": null,
      "metadata": {
        "executionInfo": {
          "elapsed": 22683,
          "status": "ok",
          "timestamp": 1751478704016,
          "user": {
            "displayName": "reg1s",
            "userId": "07516612682395836605"
          },
          "user_tz": -120
        },
        "id": "wPP5PyIK-_Bb"
      },
      "outputs": [],
      "source": [
        "import numpy as np\n",
        "import pandas as pd\n",
        "\n",
        "import matplotlib.pyplot as plt\n",
        "import seaborn as sns\n",
        "\n",
        "import torch\n",
        "\n",
        "from sentence_transformers import SentenceTransformer\n",
        "from sentence_transformers.evaluation import TripletEvaluator\n",
        "\n",
        "\n",
        "# Custom modules\n",
        "from utils import config\n",
        "from utils import data_loader\n",
        "from utils import preprocessing\n",
        "from utils import triplet_dataset"
      ]
    },
    {
      "cell_type": "code",
      "execution_count": 4,
      "metadata": {
        "executionInfo": {
          "elapsed": 54,
          "status": "ok",
          "timestamp": 1751478704067,
          "user": {
            "displayName": "reg1s",
            "userId": "07516612682395836605"
          },
          "user_tz": -120
        },
        "id": "NQzZkbrUuJaf"
      },
      "outputs": [],
      "source": [
        "# Initialize randomness\n",
        "np.random.seed(config.RANDOM_SEED);\n",
        "torch.manual_seed(config.RANDOM_SEED);\n",
        "\n",
        "config.setup_plot_style()"
      ]
    },
    {
      "cell_type": "markdown",
      "metadata": {
        "id": "mvRtTbL34E57"
      },
      "source": [
        "## **Load data**\n"
      ]
    },
    {
      "cell_type": "markdown",
      "metadata": {
        "id": "DIkgXsqtR8un"
      },
      "source": [
        "We use the [arXiv dataset from Kaggle](https://www.kaggle.com/Cornell-University/arxiv), which contains metadata and abstracts for scholarly papers across STEM fields.\n",
        "\n",
        "Below, we load a sample of the dataset and briefly inspect its structure."
      ]
    },
    {
      "cell_type": "code",
      "execution_count": 5,
      "metadata": {
        "executionInfo": {
          "elapsed": 7017,
          "status": "ok",
          "timestamp": 1751478711082,
          "user": {
            "displayName": "reg1s",
            "userId": "07516612682395836605"
          },
          "user_tz": -120
        },
        "id": "X1HlvylVjufX"
      },
      "outputs": [],
      "source": [
        "# Download dataset from Kaggle\n",
        "arxiv_dataset_path = data_loader.load_arxiv_dataset()"
      ]
    },
    {
      "cell_type": "code",
      "execution_count": 6,
      "metadata": {
        "colab": {
          "base_uri": "https://localhost:8080/"
        },
        "executionInfo": {
          "elapsed": 1466,
          "status": "ok",
          "timestamp": 1751478712550,
          "user": {
            "displayName": "reg1s",
            "userId": "07516612682395836605"
          },
          "user_tz": -120
        },
        "id": "UrF_Ym8LG9AM",
        "outputId": "93bb6058-f14c-4d30-fcb2-b759baa4b912"
      },
      "outputs": [
        {
          "name": "stdout",
          "output_type": "stream",
          "text": [
            "<class 'pandas.core.frame.DataFrame'>\n",
            "RangeIndex: 1000 entries, 15000 to 15999\n",
            "Data columns (total 14 columns):\n",
            " #   Column          Non-Null Count  Dtype  \n",
            "---  ------          --------------  -----  \n",
            " 0   id              1000 non-null   float64\n",
            " 1   submitter       1000 non-null   object \n",
            " 2   authors         1000 non-null   object \n",
            " 3   title           1000 non-null   object \n",
            " 4   comments        875 non-null    object \n",
            " 5   journal-ref     512 non-null    object \n",
            " 6   doi             646 non-null    object \n",
            " 7   report-no       80 non-null     object \n",
            " 8   categories      1000 non-null   object \n",
            " 9   license         77 non-null     object \n",
            " 10  abstract        1000 non-null   object \n",
            " 11  versions        1000 non-null   object \n",
            " 12  update_date     1000 non-null   object \n",
            " 13  authors_parsed  1000 non-null   object \n",
            "dtypes: float64(1), object(13)\n",
            "memory usage: 109.5+ KB\n",
            "None\n"
          ]
        }
      ],
      "source": [
        "# Load json file as a pandas DataFrame\n",
        "eval_nrows = 1_000\n",
        "data = pd.read_json(arxiv_dataset_path, lines=True, nrows=(config.FT_NROWS + eval_nrows))\n",
        "\n",
        "# Skip first `config.FT_NROWS` because they were used for training\n",
        "data = data.iloc[config.FT_NROWS:]\n",
        "\n",
        "print(data.info())"
      ]
    },
    {
      "cell_type": "markdown",
      "metadata": {
        "id": "W4wMWRmvGWOr"
      },
      "source": [
        "## **Preprocessing**"
      ]
    },
    {
      "cell_type": "code",
      "execution_count": 7,
      "metadata": {
        "executionInfo": {
          "elapsed": 632,
          "status": "ok",
          "timestamp": 1751478713184,
          "user": {
            "displayName": "reg1s",
            "userId": "07516612682395836605"
          },
          "user_tz": -120
        },
        "id": "qOOKUYsA1Kas"
      },
      "outputs": [],
      "source": [
        "# Select essential columns\n",
        "data = data[[\"title\", \"abstract\", \"categories\", \"authors\"]].copy()\n",
        "\n",
        "# Apply light preprocessing to text columns\n",
        "data = preprocessing.normalize_whitespace(data)\n",
        "data = preprocessing.normalize_abstracts(data)\n",
        "\n",
        "# Simplify categories\n",
        "data = preprocessing.truncate_categories(data)"
      ]
    },
    {
      "cell_type": "code",
      "execution_count": 8,
      "metadata": {
        "colab": {
          "base_uri": "https://localhost:8080/",
          "height": 206
        },
        "executionInfo": {
          "elapsed": 267,
          "status": "ok",
          "timestamp": 1751478713456,
          "user": {
            "displayName": "reg1s",
            "userId": "07516612682395836605"
          },
          "user_tz": -120
        },
        "id": "K3wPW49dSfz-",
        "outputId": "327e0c51-d786-4751-e6b1-c3f83e43c408"
      },
      "outputs": [
        {
          "data": {
            "application/vnd.google.colaboratory.intrinsic+json": {
              "summary": "{\n  \"name\": \"data\",\n  \"rows\": 965,\n  \"fields\": [\n    {\n      \"column\": \"title\",\n      \"properties\": {\n        \"dtype\": \"string\",\n        \"num_unique_values\": 965,\n        \"samples\": [\n          \"On the internal space dependence of the static quark-antiquark potential in ${\\\\cal N}=4$ SYM plasma wind\",\n          \"Classical mechanics as nonlinear quantum mechanics\",\n          \"Working Modes and Aspects in Fully-Parallel Manipulator\"\n        ],\n        \"semantic_type\": \"\",\n        \"description\": \"\"\n      }\n    },\n    {\n      \"column\": \"abstract\",\n      \"properties\": {\n        \"dtype\": \"string\",\n        \"num_unique_values\": 965,\n        \"samples\": [\n          \"We study the effect of the relative S^5-angle of a quark and an antiquark on their static potential and the related screening length in a strongly coupled moving ${\\\\cal N}=4$ SYM plasma. The large velocity scaling law for the screening length holds for any relative S^5-angle $\\\\theta$. However, the velocity independent prefactor Z strongly depends on $\\\\theta$. For comparison with QCD we propose to average Z over all relative orientations on S^5. This generates a suppression factor relative to the case $\\\\theta =0$.\",\n          \"All measurable predictions of classical mechanics can be reproduced from a quantum-like interpretation of a nonlinear Schrodinger equation. The key observation leading to classical physics is the fact that a wave function that satisfies a linear equation is real and positive, rather than complex. This has profound implications on the role of the Bohmian classical-like interpretation of linear quantum mechanics, as well as on the possibilities to find a consistent interpretation of arbitrary nonlinear generalizations of quantum mechanics.\",\n          \"The aim of this paper is to characterize the notion of aspect in the workspace and in the joint space for parallel manipulators. In opposite to the serial manipulators, the parallel manipulators can admit not only multiple inverse kinematic solutions, but also multiple direct kinematic solutions. The notion of aspect introduced for serial manipulators in [Borrel 86], and redefined for parallel manipulators with only one inverse kinematic solution in [Wenger 1997], is redefined for general fully parallel manipulators. Two Jacobian matrices appear in the kinematic relations between the joint-rate and the Cartesian-velocity vectors, which are called the \\\"inverse kinematics\\\" and the \\\"direct kinematics\\\" matrices. The study of these matrices allow to respectively define the parallel and the serial singularities. The notion of working modes is introduced to separate inverse kinematic solutions. Thus, we can find out domains of the workspace and the joint space exempt of singularity. Application of this study is the moveability analysis in the workspace of the manipulator as well as path-planing and control. This study is illustrated in this paper with a RR-RRR planar parallel manipulator.\"\n        ],\n        \"semantic_type\": \"\",\n        \"description\": \"\"\n      }\n    },\n    {\n      \"column\": \"category\",\n      \"properties\": {\n        \"dtype\": \"category\",\n        \"num_unique_values\": 13,\n        \"samples\": [\n          \"q-bio\",\n          \"q-fin\",\n          \"cond-mat\"\n        ],\n        \"semantic_type\": \"\",\n        \"description\": \"\"\n      }\n    },\n    {\n      \"column\": \"authors\",\n      \"properties\": {\n        \"dtype\": \"string\",\n        \"num_unique_values\": 934,\n        \"samples\": [\n          \"Cristian Armendariz-Picon, Mark Trodden, Eric J. West\",\n          \"Victor Alexandrov, Dmitry Krotov, Andrei Losev, Vyacheslav Lysov\",\n          \"Philip Kaaret and Hua Feng\"\n        ],\n        \"semantic_type\": \"\",\n        \"description\": \"\"\n      }\n    }\n  ]\n}",
              "type": "dataframe",
              "variable_name": "data"
            },
            "text/html": [
              "\n",
              "  <div id=\"df-077e95e3-dd36-40bc-a08d-a88be031ee6c\" class=\"colab-df-container\">\n",
              "    <div>\n",
              "<style scoped>\n",
              "    .dataframe tbody tr th:only-of-type {\n",
              "        vertical-align: middle;\n",
              "    }\n",
              "\n",
              "    .dataframe tbody tr th {\n",
              "        vertical-align: top;\n",
              "    }\n",
              "\n",
              "    .dataframe thead th {\n",
              "        text-align: right;\n",
              "    }\n",
              "</style>\n",
              "<table border=\"1\" class=\"dataframe\">\n",
              "  <thead>\n",
              "    <tr style=\"text-align: right;\">\n",
              "      <th></th>\n",
              "      <th>title</th>\n",
              "      <th>abstract</th>\n",
              "      <th>category</th>\n",
              "      <th>authors</th>\n",
              "    </tr>\n",
              "  </thead>\n",
              "  <tbody>\n",
              "    <tr>\n",
              "      <th>15000</th>\n",
              "      <td>Nonlinear transport of Bose-Einstein condensat...</td>\n",
              "      <td>We study the coherent flow of interacting Bose...</td>\n",
              "      <td>cond-mat</td>\n",
              "      <td>Tobias Paul, Michael Hartung, Klaus Richter, a...</td>\n",
              "    </tr>\n",
              "    <tr>\n",
              "      <th>15001</th>\n",
              "      <td>On the geometry of the moduli space of spin cu...</td>\n",
              "      <td>We determine the smooth locus and the locus of...</td>\n",
              "      <td>math</td>\n",
              "      <td>Katharina Ludwig</td>\n",
              "    </tr>\n",
              "    <tr>\n",
              "      <th>15002</th>\n",
              "      <td>Rotational cooling efficiency upon molecular i...</td>\n",
              "      <td>The low-temperature (up to about 100K) collisi...</td>\n",
              "      <td>physics</td>\n",
              "      <td>M. Wernli. E. Bodo, F.A. Gianturco</td>\n",
              "    </tr>\n",
              "    <tr>\n",
              "      <th>15003</th>\n",
              "      <td>On the girth of random Cayley graphs</td>\n",
              "      <td>We prove that random d-regular Cayley graphs o...</td>\n",
              "      <td>math</td>\n",
              "      <td>Alex Gamburd, Shlomo Hoory, Mehrdad Shahshahan...</td>\n",
              "    </tr>\n",
              "    <tr>\n",
              "      <th>15004</th>\n",
              "      <td>A Conceptual Analysis of Mass Loss and Frequen...</td>\n",
              "      <td>To better understand Wolf-Rayet stars as proge...</td>\n",
              "      <td>astro-ph</td>\n",
              "      <td>A. J. Onifer and K. G. Gayley</td>\n",
              "    </tr>\n",
              "  </tbody>\n",
              "</table>\n",
              "</div>\n",
              "    <div class=\"colab-df-buttons\">\n",
              "\n",
              "  <div class=\"colab-df-container\">\n",
              "    <button class=\"colab-df-convert\" onclick=\"convertToInteractive('df-077e95e3-dd36-40bc-a08d-a88be031ee6c')\"\n",
              "            title=\"Convert this dataframe to an interactive table.\"\n",
              "            style=\"display:none;\">\n",
              "\n",
              "  <svg xmlns=\"http://www.w3.org/2000/svg\" height=\"24px\" viewBox=\"0 -960 960 960\">\n",
              "    <path d=\"M120-120v-720h720v720H120Zm60-500h600v-160H180v160Zm220 220h160v-160H400v160Zm0 220h160v-160H400v160ZM180-400h160v-160H180v160Zm440 0h160v-160H620v160ZM180-180h160v-160H180v160Zm440 0h160v-160H620v160Z\"/>\n",
              "  </svg>\n",
              "    </button>\n",
              "\n",
              "  <style>\n",
              "    .colab-df-container {\n",
              "      display:flex;\n",
              "      gap: 12px;\n",
              "    }\n",
              "\n",
              "    .colab-df-convert {\n",
              "      background-color: #E8F0FE;\n",
              "      border: none;\n",
              "      border-radius: 50%;\n",
              "      cursor: pointer;\n",
              "      display: none;\n",
              "      fill: #1967D2;\n",
              "      height: 32px;\n",
              "      padding: 0 0 0 0;\n",
              "      width: 32px;\n",
              "    }\n",
              "\n",
              "    .colab-df-convert:hover {\n",
              "      background-color: #E2EBFA;\n",
              "      box-shadow: 0px 1px 2px rgba(60, 64, 67, 0.3), 0px 1px 3px 1px rgba(60, 64, 67, 0.15);\n",
              "      fill: #174EA6;\n",
              "    }\n",
              "\n",
              "    .colab-df-buttons div {\n",
              "      margin-bottom: 4px;\n",
              "    }\n",
              "\n",
              "    [theme=dark] .colab-df-convert {\n",
              "      background-color: #3B4455;\n",
              "      fill: #D2E3FC;\n",
              "    }\n",
              "\n",
              "    [theme=dark] .colab-df-convert:hover {\n",
              "      background-color: #434B5C;\n",
              "      box-shadow: 0px 1px 3px 1px rgba(0, 0, 0, 0.15);\n",
              "      filter: drop-shadow(0px 1px 2px rgba(0, 0, 0, 0.3));\n",
              "      fill: #FFFFFF;\n",
              "    }\n",
              "  </style>\n",
              "\n",
              "    <script>\n",
              "      const buttonEl =\n",
              "        document.querySelector('#df-077e95e3-dd36-40bc-a08d-a88be031ee6c button.colab-df-convert');\n",
              "      buttonEl.style.display =\n",
              "        google.colab.kernel.accessAllowed ? 'block' : 'none';\n",
              "\n",
              "      async function convertToInteractive(key) {\n",
              "        const element = document.querySelector('#df-077e95e3-dd36-40bc-a08d-a88be031ee6c');\n",
              "        const dataTable =\n",
              "          await google.colab.kernel.invokeFunction('convertToInteractive',\n",
              "                                                    [key], {});\n",
              "        if (!dataTable) return;\n",
              "\n",
              "        const docLinkHtml = 'Like what you see? Visit the ' +\n",
              "          '<a target=\"_blank\" href=https://colab.research.google.com/notebooks/data_table.ipynb>data table notebook</a>'\n",
              "          + ' to learn more about interactive tables.';\n",
              "        element.innerHTML = '';\n",
              "        dataTable['output_type'] = 'display_data';\n",
              "        await google.colab.output.renderOutput(dataTable, element);\n",
              "        const docLink = document.createElement('div');\n",
              "        docLink.innerHTML = docLinkHtml;\n",
              "        element.appendChild(docLink);\n",
              "      }\n",
              "    </script>\n",
              "  </div>\n",
              "\n",
              "\n",
              "    <div id=\"df-57cdacc0-cf01-4557-9190-c1ed9f7dc163\">\n",
              "      <button class=\"colab-df-quickchart\" onclick=\"quickchart('df-57cdacc0-cf01-4557-9190-c1ed9f7dc163')\"\n",
              "                title=\"Suggest charts\"\n",
              "                style=\"display:none;\">\n",
              "\n",
              "<svg xmlns=\"http://www.w3.org/2000/svg\" height=\"24px\"viewBox=\"0 0 24 24\"\n",
              "     width=\"24px\">\n",
              "    <g>\n",
              "        <path d=\"M19 3H5c-1.1 0-2 .9-2 2v14c0 1.1.9 2 2 2h14c1.1 0 2-.9 2-2V5c0-1.1-.9-2-2-2zM9 17H7v-7h2v7zm4 0h-2V7h2v10zm4 0h-2v-4h2v4z\"/>\n",
              "    </g>\n",
              "</svg>\n",
              "      </button>\n",
              "\n",
              "<style>\n",
              "  .colab-df-quickchart {\n",
              "      --bg-color: #E8F0FE;\n",
              "      --fill-color: #1967D2;\n",
              "      --hover-bg-color: #E2EBFA;\n",
              "      --hover-fill-color: #174EA6;\n",
              "      --disabled-fill-color: #AAA;\n",
              "      --disabled-bg-color: #DDD;\n",
              "  }\n",
              "\n",
              "  [theme=dark] .colab-df-quickchart {\n",
              "      --bg-color: #3B4455;\n",
              "      --fill-color: #D2E3FC;\n",
              "      --hover-bg-color: #434B5C;\n",
              "      --hover-fill-color: #FFFFFF;\n",
              "      --disabled-bg-color: #3B4455;\n",
              "      --disabled-fill-color: #666;\n",
              "  }\n",
              "\n",
              "  .colab-df-quickchart {\n",
              "    background-color: var(--bg-color);\n",
              "    border: none;\n",
              "    border-radius: 50%;\n",
              "    cursor: pointer;\n",
              "    display: none;\n",
              "    fill: var(--fill-color);\n",
              "    height: 32px;\n",
              "    padding: 0;\n",
              "    width: 32px;\n",
              "  }\n",
              "\n",
              "  .colab-df-quickchart:hover {\n",
              "    background-color: var(--hover-bg-color);\n",
              "    box-shadow: 0 1px 2px rgba(60, 64, 67, 0.3), 0 1px 3px 1px rgba(60, 64, 67, 0.15);\n",
              "    fill: var(--button-hover-fill-color);\n",
              "  }\n",
              "\n",
              "  .colab-df-quickchart-complete:disabled,\n",
              "  .colab-df-quickchart-complete:disabled:hover {\n",
              "    background-color: var(--disabled-bg-color);\n",
              "    fill: var(--disabled-fill-color);\n",
              "    box-shadow: none;\n",
              "  }\n",
              "\n",
              "  .colab-df-spinner {\n",
              "    border: 2px solid var(--fill-color);\n",
              "    border-color: transparent;\n",
              "    border-bottom-color: var(--fill-color);\n",
              "    animation:\n",
              "      spin 1s steps(1) infinite;\n",
              "  }\n",
              "\n",
              "  @keyframes spin {\n",
              "    0% {\n",
              "      border-color: transparent;\n",
              "      border-bottom-color: var(--fill-color);\n",
              "      border-left-color: var(--fill-color);\n",
              "    }\n",
              "    20% {\n",
              "      border-color: transparent;\n",
              "      border-left-color: var(--fill-color);\n",
              "      border-top-color: var(--fill-color);\n",
              "    }\n",
              "    30% {\n",
              "      border-color: transparent;\n",
              "      border-left-color: var(--fill-color);\n",
              "      border-top-color: var(--fill-color);\n",
              "      border-right-color: var(--fill-color);\n",
              "    }\n",
              "    40% {\n",
              "      border-color: transparent;\n",
              "      border-right-color: var(--fill-color);\n",
              "      border-top-color: var(--fill-color);\n",
              "    }\n",
              "    60% {\n",
              "      border-color: transparent;\n",
              "      border-right-color: var(--fill-color);\n",
              "    }\n",
              "    80% {\n",
              "      border-color: transparent;\n",
              "      border-right-color: var(--fill-color);\n",
              "      border-bottom-color: var(--fill-color);\n",
              "    }\n",
              "    90% {\n",
              "      border-color: transparent;\n",
              "      border-bottom-color: var(--fill-color);\n",
              "    }\n",
              "  }\n",
              "</style>\n",
              "\n",
              "      <script>\n",
              "        async function quickchart(key) {\n",
              "          const quickchartButtonEl =\n",
              "            document.querySelector('#' + key + ' button');\n",
              "          quickchartButtonEl.disabled = true;  // To prevent multiple clicks.\n",
              "          quickchartButtonEl.classList.add('colab-df-spinner');\n",
              "          try {\n",
              "            const charts = await google.colab.kernel.invokeFunction(\n",
              "                'suggestCharts', [key], {});\n",
              "          } catch (error) {\n",
              "            console.error('Error during call to suggestCharts:', error);\n",
              "          }\n",
              "          quickchartButtonEl.classList.remove('colab-df-spinner');\n",
              "          quickchartButtonEl.classList.add('colab-df-quickchart-complete');\n",
              "        }\n",
              "        (() => {\n",
              "          let quickchartButtonEl =\n",
              "            document.querySelector('#df-57cdacc0-cf01-4557-9190-c1ed9f7dc163 button');\n",
              "          quickchartButtonEl.style.display =\n",
              "            google.colab.kernel.accessAllowed ? 'block' : 'none';\n",
              "        })();\n",
              "      </script>\n",
              "    </div>\n",
              "\n",
              "    </div>\n",
              "  </div>\n"
            ],
            "text/plain": [
              "                                                   title  \\\n",
              "15000  Nonlinear transport of Bose-Einstein condensat...   \n",
              "15001  On the geometry of the moduli space of spin cu...   \n",
              "15002  Rotational cooling efficiency upon molecular i...   \n",
              "15003               On the girth of random Cayley graphs   \n",
              "15004  A Conceptual Analysis of Mass Loss and Frequen...   \n",
              "\n",
              "                                                abstract  category  \\\n",
              "15000  We study the coherent flow of interacting Bose...  cond-mat   \n",
              "15001  We determine the smooth locus and the locus of...      math   \n",
              "15002  The low-temperature (up to about 100K) collisi...   physics   \n",
              "15003  We prove that random d-regular Cayley graphs o...      math   \n",
              "15004  To better understand Wolf-Rayet stars as proge...  astro-ph   \n",
              "\n",
              "                                                 authors  \n",
              "15000  Tobias Paul, Michael Hartung, Klaus Richter, a...  \n",
              "15001                                   Katharina Ludwig  \n",
              "15002                 M. Wernli. E. Bodo, F.A. Gianturco  \n",
              "15003  Alex Gamburd, Shlomo Hoory, Mehrdad Shahshahan...  \n",
              "15004                      A. J. Onifer and K. G. Gayley  "
            ]
          },
          "execution_count": 8,
          "metadata": {},
          "output_type": "execute_result"
        }
      ],
      "source": [
        "data.head()"
      ]
    },
    {
      "cell_type": "markdown",
      "metadata": {
        "id": "TADq-E883GSm"
      },
      "source": [
        "## **Model evaluation**"
      ]
    },
    {
      "cell_type": "markdown",
      "metadata": {
        "id": "pTMrZhep4KMm"
      },
      "source": [
        "We evaluate embeddings across a progression of increasingly specialized models to understand the impact of domain-specific pre-training on scientific text categorization:\n",
        "\n",
        "- **GloVe**: Static word embeddings averaged to sentence level, representing pre-transformer approaches to text representation.<br>\n",
        "[[Pennington et al., 2014](https://nlp.stanford.edu/pubs/glove.pdf)], [[Hugging Face](https://huggingface.co/sentence-transformers/average_word_embeddings_glove.6B.300d)].\n",
        "- **BERT**: Transformer-based contextual embeddings trained on general English text, establishing the standard transformer baseline.<br>\n",
        "[[Devlin et al., 2019](https://arxiv.org/abs/1810.04805)], [[Hugging Face](https://huggingface.co/bert-base-uncased)].\n",
        "- **SciBERT**: BERT architecture retrained on scientific publications, isolating the effect of domain-specific pre-training.<br>\n",
        "[[Beltagy et al., 2019](https://arxiv.org/abs/1903.10676)], [[Hugging Face](https://huggingface.co/allenai/scibert_scivocab_uncased)].\n",
        "- **SPECTER**: SciBERT further trained on citation relationships to learn document-level semantic similarity in scientific literature.<br>\n",
        "[[Cohan et al., 2020](https://arxiv.org/abs/2004.07180)], [[Hugging Face](https://huggingface.co/allenai/specter)].\n",
        "- **SPECTER (fine-tuned)**: Our task-specific adaptation of SPECTER, optimized for the target classification task.\n",
        "\n",
        "This progression allows us to measure the incremental benefit of domain adaptation (SciBERT vs BERT), document-level training (SPECTER vs SciBERT), and task-specific fine-tuning."
      ]
    },
    {
      "cell_type": "code",
      "execution_count": 9,
      "metadata": {
        "executionInfo": {
          "elapsed": 158,
          "status": "ok",
          "timestamp": 1751478713616,
          "user": {
            "displayName": "reg1s",
            "userId": "07516612682395836605"
          },
          "user_tz": -120
        },
        "id": "QuqjJvdgV6pX"
      },
      "outputs": [],
      "source": [
        "model_configs = [\n",
        "    (\"average_word_embeddings_glove.6B.300d\", \"GloVe\"),\n",
        "    (\"google-bert/bert-base-uncased\", \"BERT\"),\n",
        "    (\"allenai/scibert_scivocab_uncased\", \"SciBERT\"),\n",
        "    (\"allenai-specter\", \"SPECTER\"),\n",
        "    (\"nadrajak/allenai-specter-ft2\", \"SPECTER (fine-tuned)\"),\n",
        "]"
      ]
    },
    {
      "cell_type": "code",
      "execution_count": 10,
      "metadata": {
        "colab": {
          "base_uri": "https://localhost:8080/"
        },
        "executionInfo": {
          "elapsed": 17978,
          "status": "ok",
          "timestamp": 1751478731600,
          "user": {
            "displayName": "reg1s",
            "userId": "07516612682395836605"
          },
          "user_tz": -120
        },
        "id": "50_Ec8CwXUoW",
        "outputId": "065fa21b-07b8-49a7-8fbf-354de8246dfa"
      },
      "outputs": [
        {
          "name": "stderr",
          "output_type": "stream",
          "text": [
            "WARNING:sentence_transformers.SentenceTransformer:No sentence-transformers model found with name google-bert/bert-base-uncased. Creating a new one with mean pooling.\n",
            "WARNING:sentence_transformers.SentenceTransformer:No sentence-transformers model found with name allenai/scibert_scivocab_uncased. Creating a new one with mean pooling.\n"
          ]
        }
      ],
      "source": [
        "# Load all models\n",
        "model_names, model_pretty_names = zip(*model_configs)\n",
        "models = [SentenceTransformer(name) for name in model_names]"
      ]
    },
    {
      "cell_type": "markdown",
      "metadata": {
        "id": "1fhSPzIha2m8"
      },
      "source": [
        "### **Triplet accuracy**"
      ]
    },
    {
      "cell_type": "code",
      "execution_count": 11,
      "metadata": {
        "executionInfo": {
          "elapsed": 534,
          "status": "ok",
          "timestamp": 1751478732137,
          "user": {
            "displayName": "reg1s",
            "userId": "07516612682395836605"
          },
          "user_tz": -120
        },
        "id": "y9hIShxieAUY"
      },
      "outputs": [],
      "source": [
        "anchors, positives, negatives = triplet_dataset.generate_triplets(data, n=len(data))"
      ]
    },
    {
      "cell_type": "code",
      "execution_count": 12,
      "metadata": {
        "executionInfo": {
          "elapsed": 66,
          "status": "ok",
          "timestamp": 1751478732205,
          "user": {
            "displayName": "reg1s",
            "userId": "07516612682395836605"
          },
          "user_tz": -120
        },
        "id": "o0EQBjIadpGs"
      },
      "outputs": [],
      "source": [
        "evaluator = TripletEvaluator(\n",
        "    anchors=anchors,\n",
        "    positives=positives,\n",
        "    negatives=negatives,\n",
        "    similarity_fn_names=[\"cosine\", \"euclidean\", \"dot\"],\n",
        ")"
      ]
    },
    {
      "cell_type": "code",
      "execution_count": 13,
      "metadata": {
        "executionInfo": {
          "elapsed": 163836,
          "status": "ok",
          "timestamp": 1751478896043,
          "user": {
            "displayName": "reg1s",
            "userId": "07516612682395836605"
          },
          "user_tz": -120
        },
        "id": "92s6ar87iM0M"
      },
      "outputs": [],
      "source": [
        "results = []\n",
        "for model, model_name in zip(models, model_pretty_names):\n",
        "    result = evaluator(model, output_path=None)\n",
        "    result['model'] = model_name\n",
        "    results.append(result)\n",
        "\n",
        "results_df = pd.DataFrame(results).set_index('model').drop(columns=['max_accuracy'])"
      ]
    },
    {
      "cell_type": "code",
      "execution_count": 14,
      "metadata": {
        "colab": {
          "base_uri": "https://localhost:8080/",
          "height": 237
        },
        "executionInfo": {
          "elapsed": 91,
          "status": "ok",
          "timestamp": 1751478896132,
          "user": {
            "displayName": "reg1s",
            "userId": "07516612682395836605"
          },
          "user_tz": -120
        },
        "id": "RVbvICkTiYhh",
        "outputId": "24f66033-1c1f-4337-fbf5-27c490c2af49"
      },
      "outputs": [
        {
          "data": {
            "application/vnd.google.colaboratory.intrinsic+json": {
              "summary": "{\n  \"name\": \"results_df\",\n  \"rows\": 5,\n  \"fields\": [\n    {\n      \"column\": \"model\",\n      \"properties\": {\n        \"dtype\": \"string\",\n        \"num_unique_values\": 5,\n        \"samples\": [\n          \"BERT\",\n          \"SPECTER (fine-tuned)\",\n          \"SciBERT\"\n        ],\n        \"semantic_type\": \"\",\n        \"description\": \"\"\n      }\n    },\n    {\n      \"column\": \"cosine_accuracy\",\n      \"properties\": {\n        \"dtype\": \"number\",\n        \"std\": 0.10582615461217515,\n        \"min\": 0.6383,\n        \"max\": 0.9275,\n        \"num_unique_values\": 5,\n        \"samples\": [\n          0.7264,\n          0.9275,\n          0.7492\n        ],\n        \"semantic_type\": \"\",\n        \"description\": \"\"\n      }\n    },\n    {\n      \"column\": \"euclidean_accuracy\",\n      \"properties\": {\n        \"dtype\": \"number\",\n        \"std\": 0.11107577593697016,\n        \"min\": 0.6311,\n        \"max\": 0.9295,\n        \"num_unique_values\": 5,\n        \"samples\": [\n          0.7047,\n          0.9295,\n          0.7409\n        ],\n        \"semantic_type\": \"\",\n        \"description\": \"\"\n      }\n    },\n    {\n      \"column\": \"dot_accuracy\",\n      \"properties\": {\n        \"dtype\": \"number\",\n        \"std\": 0.13987759649064607,\n        \"min\": 0.5699,\n        \"max\": 0.9306,\n        \"num_unique_values\": 5,\n        \"samples\": [\n          0.6933,\n          0.9306,\n          0.6497\n        ],\n        \"semantic_type\": \"\",\n        \"description\": \"\"\n      }\n    }\n  ]\n}",
              "type": "dataframe"
            },
            "text/html": [
              "\n",
              "  <div id=\"df-f1e33e99-d593-4ea0-89f9-cd92d799d393\" class=\"colab-df-container\">\n",
              "    <div>\n",
              "<style scoped>\n",
              "    .dataframe tbody tr th:only-of-type {\n",
              "        vertical-align: middle;\n",
              "    }\n",
              "\n",
              "    .dataframe tbody tr th {\n",
              "        vertical-align: top;\n",
              "    }\n",
              "\n",
              "    .dataframe thead th {\n",
              "        text-align: right;\n",
              "    }\n",
              "</style>\n",
              "<table border=\"1\" class=\"dataframe\">\n",
              "  <thead>\n",
              "    <tr style=\"text-align: right;\">\n",
              "      <th></th>\n",
              "      <th>cosine_accuracy</th>\n",
              "      <th>euclidean_accuracy</th>\n",
              "      <th>dot_accuracy</th>\n",
              "    </tr>\n",
              "    <tr>\n",
              "      <th>model</th>\n",
              "      <th></th>\n",
              "      <th></th>\n",
              "      <th></th>\n",
              "    </tr>\n",
              "  </thead>\n",
              "  <tbody>\n",
              "    <tr>\n",
              "      <th>GloVe</th>\n",
              "      <td>0.6383</td>\n",
              "      <td>0.6311</td>\n",
              "      <td>0.5699</td>\n",
              "    </tr>\n",
              "    <tr>\n",
              "      <th>BERT</th>\n",
              "      <td>0.7264</td>\n",
              "      <td>0.7047</td>\n",
              "      <td>0.6933</td>\n",
              "    </tr>\n",
              "    <tr>\n",
              "      <th>SciBERT</th>\n",
              "      <td>0.7492</td>\n",
              "      <td>0.7409</td>\n",
              "      <td>0.6497</td>\n",
              "    </tr>\n",
              "    <tr>\n",
              "      <th>SPECTER</th>\n",
              "      <td>0.7896</td>\n",
              "      <td>0.7845</td>\n",
              "      <td>0.7979</td>\n",
              "    </tr>\n",
              "    <tr>\n",
              "      <th>SPECTER (fine-tuned)</th>\n",
              "      <td>0.9275</td>\n",
              "      <td>0.9295</td>\n",
              "      <td>0.9306</td>\n",
              "    </tr>\n",
              "  </tbody>\n",
              "</table>\n",
              "</div>\n",
              "    <div class=\"colab-df-buttons\">\n",
              "\n",
              "  <div class=\"colab-df-container\">\n",
              "    <button class=\"colab-df-convert\" onclick=\"convertToInteractive('df-f1e33e99-d593-4ea0-89f9-cd92d799d393')\"\n",
              "            title=\"Convert this dataframe to an interactive table.\"\n",
              "            style=\"display:none;\">\n",
              "\n",
              "  <svg xmlns=\"http://www.w3.org/2000/svg\" height=\"24px\" viewBox=\"0 -960 960 960\">\n",
              "    <path d=\"M120-120v-720h720v720H120Zm60-500h600v-160H180v160Zm220 220h160v-160H400v160Zm0 220h160v-160H400v160ZM180-400h160v-160H180v160Zm440 0h160v-160H620v160ZM180-180h160v-160H180v160Zm440 0h160v-160H620v160Z\"/>\n",
              "  </svg>\n",
              "    </button>\n",
              "\n",
              "  <style>\n",
              "    .colab-df-container {\n",
              "      display:flex;\n",
              "      gap: 12px;\n",
              "    }\n",
              "\n",
              "    .colab-df-convert {\n",
              "      background-color: #E8F0FE;\n",
              "      border: none;\n",
              "      border-radius: 50%;\n",
              "      cursor: pointer;\n",
              "      display: none;\n",
              "      fill: #1967D2;\n",
              "      height: 32px;\n",
              "      padding: 0 0 0 0;\n",
              "      width: 32px;\n",
              "    }\n",
              "\n",
              "    .colab-df-convert:hover {\n",
              "      background-color: #E2EBFA;\n",
              "      box-shadow: 0px 1px 2px rgba(60, 64, 67, 0.3), 0px 1px 3px 1px rgba(60, 64, 67, 0.15);\n",
              "      fill: #174EA6;\n",
              "    }\n",
              "\n",
              "    .colab-df-buttons div {\n",
              "      margin-bottom: 4px;\n",
              "    }\n",
              "\n",
              "    [theme=dark] .colab-df-convert {\n",
              "      background-color: #3B4455;\n",
              "      fill: #D2E3FC;\n",
              "    }\n",
              "\n",
              "    [theme=dark] .colab-df-convert:hover {\n",
              "      background-color: #434B5C;\n",
              "      box-shadow: 0px 1px 3px 1px rgba(0, 0, 0, 0.15);\n",
              "      filter: drop-shadow(0px 1px 2px rgba(0, 0, 0, 0.3));\n",
              "      fill: #FFFFFF;\n",
              "    }\n",
              "  </style>\n",
              "\n",
              "    <script>\n",
              "      const buttonEl =\n",
              "        document.querySelector('#df-f1e33e99-d593-4ea0-89f9-cd92d799d393 button.colab-df-convert');\n",
              "      buttonEl.style.display =\n",
              "        google.colab.kernel.accessAllowed ? 'block' : 'none';\n",
              "\n",
              "      async function convertToInteractive(key) {\n",
              "        const element = document.querySelector('#df-f1e33e99-d593-4ea0-89f9-cd92d799d393');\n",
              "        const dataTable =\n",
              "          await google.colab.kernel.invokeFunction('convertToInteractive',\n",
              "                                                    [key], {});\n",
              "        if (!dataTable) return;\n",
              "\n",
              "        const docLinkHtml = 'Like what you see? Visit the ' +\n",
              "          '<a target=\"_blank\" href=https://colab.research.google.com/notebooks/data_table.ipynb>data table notebook</a>'\n",
              "          + ' to learn more about interactive tables.';\n",
              "        element.innerHTML = '';\n",
              "        dataTable['output_type'] = 'display_data';\n",
              "        await google.colab.output.renderOutput(dataTable, element);\n",
              "        const docLink = document.createElement('div');\n",
              "        docLink.innerHTML = docLinkHtml;\n",
              "        element.appendChild(docLink);\n",
              "      }\n",
              "    </script>\n",
              "  </div>\n",
              "\n",
              "\n",
              "    <div id=\"df-beee9d6a-ed9a-45e2-9bc0-b15f04fc8831\">\n",
              "      <button class=\"colab-df-quickchart\" onclick=\"quickchart('df-beee9d6a-ed9a-45e2-9bc0-b15f04fc8831')\"\n",
              "                title=\"Suggest charts\"\n",
              "                style=\"display:none;\">\n",
              "\n",
              "<svg xmlns=\"http://www.w3.org/2000/svg\" height=\"24px\"viewBox=\"0 0 24 24\"\n",
              "     width=\"24px\">\n",
              "    <g>\n",
              "        <path d=\"M19 3H5c-1.1 0-2 .9-2 2v14c0 1.1.9 2 2 2h14c1.1 0 2-.9 2-2V5c0-1.1-.9-2-2-2zM9 17H7v-7h2v7zm4 0h-2V7h2v10zm4 0h-2v-4h2v4z\"/>\n",
              "    </g>\n",
              "</svg>\n",
              "      </button>\n",
              "\n",
              "<style>\n",
              "  .colab-df-quickchart {\n",
              "      --bg-color: #E8F0FE;\n",
              "      --fill-color: #1967D2;\n",
              "      --hover-bg-color: #E2EBFA;\n",
              "      --hover-fill-color: #174EA6;\n",
              "      --disabled-fill-color: #AAA;\n",
              "      --disabled-bg-color: #DDD;\n",
              "  }\n",
              "\n",
              "  [theme=dark] .colab-df-quickchart {\n",
              "      --bg-color: #3B4455;\n",
              "      --fill-color: #D2E3FC;\n",
              "      --hover-bg-color: #434B5C;\n",
              "      --hover-fill-color: #FFFFFF;\n",
              "      --disabled-bg-color: #3B4455;\n",
              "      --disabled-fill-color: #666;\n",
              "  }\n",
              "\n",
              "  .colab-df-quickchart {\n",
              "    background-color: var(--bg-color);\n",
              "    border: none;\n",
              "    border-radius: 50%;\n",
              "    cursor: pointer;\n",
              "    display: none;\n",
              "    fill: var(--fill-color);\n",
              "    height: 32px;\n",
              "    padding: 0;\n",
              "    width: 32px;\n",
              "  }\n",
              "\n",
              "  .colab-df-quickchart:hover {\n",
              "    background-color: var(--hover-bg-color);\n",
              "    box-shadow: 0 1px 2px rgba(60, 64, 67, 0.3), 0 1px 3px 1px rgba(60, 64, 67, 0.15);\n",
              "    fill: var(--button-hover-fill-color);\n",
              "  }\n",
              "\n",
              "  .colab-df-quickchart-complete:disabled,\n",
              "  .colab-df-quickchart-complete:disabled:hover {\n",
              "    background-color: var(--disabled-bg-color);\n",
              "    fill: var(--disabled-fill-color);\n",
              "    box-shadow: none;\n",
              "  }\n",
              "\n",
              "  .colab-df-spinner {\n",
              "    border: 2px solid var(--fill-color);\n",
              "    border-color: transparent;\n",
              "    border-bottom-color: var(--fill-color);\n",
              "    animation:\n",
              "      spin 1s steps(1) infinite;\n",
              "  }\n",
              "\n",
              "  @keyframes spin {\n",
              "    0% {\n",
              "      border-color: transparent;\n",
              "      border-bottom-color: var(--fill-color);\n",
              "      border-left-color: var(--fill-color);\n",
              "    }\n",
              "    20% {\n",
              "      border-color: transparent;\n",
              "      border-left-color: var(--fill-color);\n",
              "      border-top-color: var(--fill-color);\n",
              "    }\n",
              "    30% {\n",
              "      border-color: transparent;\n",
              "      border-left-color: var(--fill-color);\n",
              "      border-top-color: var(--fill-color);\n",
              "      border-right-color: var(--fill-color);\n",
              "    }\n",
              "    40% {\n",
              "      border-color: transparent;\n",
              "      border-right-color: var(--fill-color);\n",
              "      border-top-color: var(--fill-color);\n",
              "    }\n",
              "    60% {\n",
              "      border-color: transparent;\n",
              "      border-right-color: var(--fill-color);\n",
              "    }\n",
              "    80% {\n",
              "      border-color: transparent;\n",
              "      border-right-color: var(--fill-color);\n",
              "      border-bottom-color: var(--fill-color);\n",
              "    }\n",
              "    90% {\n",
              "      border-color: transparent;\n",
              "      border-bottom-color: var(--fill-color);\n",
              "    }\n",
              "  }\n",
              "</style>\n",
              "\n",
              "      <script>\n",
              "        async function quickchart(key) {\n",
              "          const quickchartButtonEl =\n",
              "            document.querySelector('#' + key + ' button');\n",
              "          quickchartButtonEl.disabled = true;  // To prevent multiple clicks.\n",
              "          quickchartButtonEl.classList.add('colab-df-spinner');\n",
              "          try {\n",
              "            const charts = await google.colab.kernel.invokeFunction(\n",
              "                'suggestCharts', [key], {});\n",
              "          } catch (error) {\n",
              "            console.error('Error during call to suggestCharts:', error);\n",
              "          }\n",
              "          quickchartButtonEl.classList.remove('colab-df-spinner');\n",
              "          quickchartButtonEl.classList.add('colab-df-quickchart-complete');\n",
              "        }\n",
              "        (() => {\n",
              "          let quickchartButtonEl =\n",
              "            document.querySelector('#df-beee9d6a-ed9a-45e2-9bc0-b15f04fc8831 button');\n",
              "          quickchartButtonEl.style.display =\n",
              "            google.colab.kernel.accessAllowed ? 'block' : 'none';\n",
              "        })();\n",
              "      </script>\n",
              "    </div>\n",
              "\n",
              "    </div>\n",
              "  </div>\n"
            ],
            "text/plain": [
              "                      cosine_accuracy  euclidean_accuracy  dot_accuracy\n",
              "model                                                                  \n",
              "GloVe                          0.6383              0.6311        0.5699\n",
              "BERT                           0.7264              0.7047        0.6933\n",
              "SciBERT                        0.7492              0.7409        0.6497\n",
              "SPECTER                        0.7896              0.7845        0.7979\n",
              "SPECTER (fine-tuned)           0.9275              0.9295        0.9306"
            ]
          },
          "execution_count": 14,
          "metadata": {},
          "output_type": "execute_result"
        }
      ],
      "source": [
        "results_df.round(4).head()"
      ]
    },
    {
      "cell_type": "code",
      "execution_count": 15,
      "metadata": {
        "colab": {
          "base_uri": "https://localhost:8080/",
          "height": 501
        },
        "executionInfo": {
          "elapsed": 537,
          "status": "ok",
          "timestamp": 1751478896670,
          "user": {
            "displayName": "reg1s",
            "userId": "07516612682395836605"
          },
          "user_tz": -120
        },
        "id": "PGoSGxW3njeU",
        "outputId": "c0494ef9-30ba-4066-abd9-036a7abc6c39"
      },
      "outputs": [
        {
          "data": {
            "image/png": "[encoded data removed]",
            "text/plain": [
              "<Figure size 1200x500 with 1 Axes>"
            ]
          },
          "metadata": {},
          "output_type": "display_data"
        }
      ],
      "source": [
        "plt.figure(figsize=(12, 5))\n",
        "\n",
        "results_df['cosine_accuracy'].plot(kind='bar')\n",
        "plt.title('Model Evaluation using Triplet Cosine Accuracy')\n",
        "plt.xlabel('Model')\n",
        "plt.ylabel('Accuracy')\n",
        "plt.xticks(rotation=0, ha='center')\n",
        "plt.ylim([0.5, 1])\n",
        "\n",
        "plt.tight_layout()"
      ]
    },
    {
      "cell_type": "markdown",
      "metadata": {
        "id": "zXTgPcFqjV43"
      },
      "source": [
        "### **Metrics@k**"
      ]
    },
    {
      "cell_type": "code",
      "execution_count": 16,
      "metadata": {
        "executionInfo": {
          "elapsed": 3,
          "status": "ok",
          "timestamp": 1751478896675,
          "user": {
            "displayName": "reg1s",
            "userId": "07516612682395836605"
          },
          "user_tz": -120
        },
        "id": "X7Z7HP4X_Z_2"
      },
      "outputs": [],
      "source": [
        "# TODO"
      ]
    },
    {
      "cell_type": "markdown",
      "metadata": {
        "id": "zF9KjJhQjeSw"
      },
      "source": [
        "### **Clustering**\n"
      ]
    },
    {
      "cell_type": "code",
      "execution_count": 17,
      "metadata": {
        "executionInfo": {
          "elapsed": 80,
          "status": "ok",
          "timestamp": 1751478896754,
          "user": {
            "displayName": "reg1s",
            "userId": "07516612682395836605"
          },
          "user_tz": -120
        },
        "id": "43YtLaIW_Xi-"
      },
      "outputs": [],
      "source": [
        "# TODO"
      ]
    },
    {
      "cell_type": "markdown",
      "metadata": {
        "id": "UjYmIIZIPGhj"
      },
      "source": [
        "## **Conclusion**"
      ]
    },
    {
      "cell_type": "code",
      "execution_count": 18,
      "metadata": {
        "executionInfo": {
          "elapsed": 88,
          "status": "ok",
          "timestamp": 1751478896844,
          "user": {
            "displayName": "reg1s",
            "userId": "07516612682395836605"
          },
          "user_tz": -120
        },
        "id": "F2D9N5XuPIIP"
      },
      "outputs": [],
      "source": [
        "# TODO"
      ]
    }
  ],
  "metadata": {
    "accelerator": "GPU",
    "colab": {
      "cell_execution_strategy": "setup",
      "gpuType": "T4",
      "provenance": [
        {
          "file_id": "1p5Kc0Qeb2hF96Soki4l0Kz56-Uc0xqVk",
          "timestamp": 1751230436153
        },
        {
          "file_id": "1vf1r2MUkJeMrKJRdDfp-r2GFv-6eLJDG",
          "timestamp": 1750906801688
        }
      ],
      "toc_visible": true
    },
    "kernelspec": {
      "display_name": "Python 3",
      "name": "python3"
    },
    "language_info": {
      "codemirror_mode": {
        "name": "ipython",
        "version": 3
      },
      "file_extension": ".py",
      "mimetype": "text/x-python",
      "name": "python",
      "nbconvert_exporter": "python",
      "pygments_lexer": "ipython3",
      "version": "3.8.10"
    }
  },
  "nbformat": 4,
  "nbformat_minor": 0
}
